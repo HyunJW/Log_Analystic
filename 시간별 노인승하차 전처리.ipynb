{
 "cells": [
  {
   "cell_type": "code",
   "execution_count": 1,
   "id": "6f3ec05e",
   "metadata": {},
   "outputs": [],
   "source": [
    "import pandas as pd"
   ]
  },
  {
   "cell_type": "code",
   "execution_count": 80,
   "id": "f62ae08f",
   "metadata": {},
   "outputs": [],
   "source": [
    "df_old_22=pd.read_csv('./서울교통공사_역별 일별 시간대별 노인 승하차인원 정보_20220531.csv', encoding='cp949')\n",
    "df_old_21=pd.read_csv('./서울교통공사_역별 일별 시간대별 노인 승하차인원_20211231.csv', encoding='cp949')"
   ]
  },
  {
   "cell_type": "code",
   "execution_count": 81,
   "id": "f3154525",
   "metadata": {},
   "outputs": [],
   "source": [
    "df_old_22['구분']=df_old_22['구분'].str.split(' ').str[2]"
   ]
  },
  {
   "cell_type": "code",
   "execution_count": 82,
   "id": "72914fa4",
   "metadata": {},
   "outputs": [
    {
     "data": {
      "text/html": [
       "<div>\n",
       "<style scoped>\n",
       "    .dataframe tbody tr th:only-of-type {\n",
       "        vertical-align: middle;\n",
       "    }\n",
       "\n",
       "    .dataframe tbody tr th {\n",
       "        vertical-align: top;\n",
       "    }\n",
       "\n",
       "    .dataframe thead th {\n",
       "        text-align: right;\n",
       "    }\n",
       "</style>\n",
       "<table border=\"1\" class=\"dataframe\">\n",
       "  <thead>\n",
       "    <tr style=\"text-align: right;\">\n",
       "      <th></th>\n",
       "      <th>연번</th>\n",
       "      <th>일자</th>\n",
       "      <th>역번호</th>\n",
       "      <th>역명</th>\n",
       "      <th>구분</th>\n",
       "      <th>06시이전</th>\n",
       "      <th>06시-07시</th>\n",
       "      <th>07시-08시</th>\n",
       "      <th>08시-09시</th>\n",
       "      <th>09시-10시</th>\n",
       "      <th>...</th>\n",
       "      <th>14시-15시</th>\n",
       "      <th>15시-16시</th>\n",
       "      <th>16시-17시</th>\n",
       "      <th>17시-18시</th>\n",
       "      <th>18시-19시</th>\n",
       "      <th>19시-20시</th>\n",
       "      <th>20시-21시</th>\n",
       "      <th>21시-22시</th>\n",
       "      <th>22시-23시</th>\n",
       "      <th>23시이후</th>\n",
       "    </tr>\n",
       "  </thead>\n",
       "  <tbody>\n",
       "    <tr>\n",
       "      <th>0</th>\n",
       "      <td>1</td>\n",
       "      <td>2022-01-01</td>\n",
       "      <td>150</td>\n",
       "      <td>서울역</td>\n",
       "      <td>승차</td>\n",
       "      <td>36</td>\n",
       "      <td>33.0</td>\n",
       "      <td>24.0</td>\n",
       "      <td>41.0</td>\n",
       "      <td>82.0</td>\n",
       "      <td>...</td>\n",
       "      <td>164.0</td>\n",
       "      <td>186.0</td>\n",
       "      <td>199.0</td>\n",
       "      <td>163.0</td>\n",
       "      <td>114.0</td>\n",
       "      <td>69.0</td>\n",
       "      <td>53.0</td>\n",
       "      <td>61.0</td>\n",
       "      <td>17.0</td>\n",
       "      <td>9</td>\n",
       "    </tr>\n",
       "    <tr>\n",
       "      <th>1</th>\n",
       "      <td>2</td>\n",
       "      <td>2022-01-01</td>\n",
       "      <td>150</td>\n",
       "      <td>서울역</td>\n",
       "      <td>하차</td>\n",
       "      <td>21</td>\n",
       "      <td>101.0</td>\n",
       "      <td>62.0</td>\n",
       "      <td>76.0</td>\n",
       "      <td>127.0</td>\n",
       "      <td>...</td>\n",
       "      <td>170.0</td>\n",
       "      <td>187.0</td>\n",
       "      <td>199.0</td>\n",
       "      <td>124.0</td>\n",
       "      <td>85.0</td>\n",
       "      <td>55.0</td>\n",
       "      <td>44.0</td>\n",
       "      <td>37.0</td>\n",
       "      <td>9.0</td>\n",
       "      <td>2</td>\n",
       "    </tr>\n",
       "    <tr>\n",
       "      <th>2</th>\n",
       "      <td>3</td>\n",
       "      <td>2022-01-01</td>\n",
       "      <td>151</td>\n",
       "      <td>시청</td>\n",
       "      <td>승차</td>\n",
       "      <td>13</td>\n",
       "      <td>20.0</td>\n",
       "      <td>14.0</td>\n",
       "      <td>14.0</td>\n",
       "      <td>18.0</td>\n",
       "      <td>...</td>\n",
       "      <td>67.0</td>\n",
       "      <td>98.0</td>\n",
       "      <td>88.0</td>\n",
       "      <td>83.0</td>\n",
       "      <td>34.0</td>\n",
       "      <td>30.0</td>\n",
       "      <td>28.0</td>\n",
       "      <td>17.0</td>\n",
       "      <td>17.0</td>\n",
       "      <td>1</td>\n",
       "    </tr>\n",
       "    <tr>\n",
       "      <th>3</th>\n",
       "      <td>4</td>\n",
       "      <td>2022-01-01</td>\n",
       "      <td>151</td>\n",
       "      <td>시청</td>\n",
       "      <td>하차</td>\n",
       "      <td>7</td>\n",
       "      <td>26.0</td>\n",
       "      <td>23.0</td>\n",
       "      <td>27.0</td>\n",
       "      <td>29.0</td>\n",
       "      <td>...</td>\n",
       "      <td>92.0</td>\n",
       "      <td>52.0</td>\n",
       "      <td>45.0</td>\n",
       "      <td>37.0</td>\n",
       "      <td>13.0</td>\n",
       "      <td>5.0</td>\n",
       "      <td>7.0</td>\n",
       "      <td>6.0</td>\n",
       "      <td>5.0</td>\n",
       "      <td>1</td>\n",
       "    </tr>\n",
       "    <tr>\n",
       "      <th>4</th>\n",
       "      <td>5</td>\n",
       "      <td>2022-01-01</td>\n",
       "      <td>152</td>\n",
       "      <td>종각</td>\n",
       "      <td>승차</td>\n",
       "      <td>12</td>\n",
       "      <td>29.0</td>\n",
       "      <td>18.0</td>\n",
       "      <td>31.0</td>\n",
       "      <td>33.0</td>\n",
       "      <td>...</td>\n",
       "      <td>150.0</td>\n",
       "      <td>173.0</td>\n",
       "      <td>142.0</td>\n",
       "      <td>127.0</td>\n",
       "      <td>60.0</td>\n",
       "      <td>76.0</td>\n",
       "      <td>63.0</td>\n",
       "      <td>39.0</td>\n",
       "      <td>10.0</td>\n",
       "      <td>3</td>\n",
       "    </tr>\n",
       "  </tbody>\n",
       "</table>\n",
       "<p>5 rows × 24 columns</p>\n",
       "</div>"
      ],
      "text/plain": [
       "   연번          일자  역번호   역명  구분  06시이전  06시-07시  07시-08시  08시-09시  09시-10시  \\\n",
       "0   1  2022-01-01  150  서울역  승차     36     33.0     24.0     41.0     82.0   \n",
       "1   2  2022-01-01  150  서울역  하차     21    101.0     62.0     76.0    127.0   \n",
       "2   3  2022-01-01  151   시청  승차     13     20.0     14.0     14.0     18.0   \n",
       "3   4  2022-01-01  151   시청  하차      7     26.0     23.0     27.0     29.0   \n",
       "4   5  2022-01-01  152   종각  승차     12     29.0     18.0     31.0     33.0   \n",
       "\n",
       "   ...  14시-15시  15시-16시  16시-17시  17시-18시  18시-19시  19시-20시  20시-21시  \\\n",
       "0  ...    164.0    186.0    199.0    163.0    114.0     69.0     53.0   \n",
       "1  ...    170.0    187.0    199.0    124.0     85.0     55.0     44.0   \n",
       "2  ...     67.0     98.0     88.0     83.0     34.0     30.0     28.0   \n",
       "3  ...     92.0     52.0     45.0     37.0     13.0      5.0      7.0   \n",
       "4  ...    150.0    173.0    142.0    127.0     60.0     76.0     63.0   \n",
       "\n",
       "   21시-22시  22시-23시  23시이후  \n",
       "0     61.0     17.0      9  \n",
       "1     37.0      9.0      2  \n",
       "2     17.0     17.0      1  \n",
       "3      6.0      5.0      1  \n",
       "4     39.0     10.0      3  \n",
       "\n",
       "[5 rows x 24 columns]"
      ]
     },
     "execution_count": 82,
     "metadata": {},
     "output_type": "execute_result"
    }
   ],
   "source": [
    "df_old_22.head()"
   ]
  },
  {
   "cell_type": "code",
   "execution_count": 83,
   "id": "b03fda53",
   "metadata": {},
   "outputs": [],
   "source": [
    "df_old=pd.concat([df_old_21,df_old_22], axis=0)"
   ]
  },
  {
   "cell_type": "code",
   "execution_count": 84,
   "id": "7f6b575d",
   "metadata": {},
   "outputs": [],
   "source": [
    "df_old.drop(columns='연번', inplace=True)\n",
    "df_old.dropna(axis=0, inplace=True)"
   ]
  },
  {
   "cell_type": "code",
   "execution_count": 85,
   "id": "0cfd0639",
   "metadata": {},
   "outputs": [],
   "source": [
    "df_old=df_old.reset_index().drop(columns='index')"
   ]
  },
  {
   "cell_type": "code",
   "execution_count": 86,
   "id": "407b0ee1",
   "metadata": {},
   "outputs": [],
   "source": [
    "# 호선 열 생성\n",
    "for i in range(0, len(df_old)):\n",
    "    if len(str(df_old.iloc[i]['역번호']))==3:\n",
    "        df_old.loc[i, '호선']=str(df_old.iloc[i]['역번호'])[0]+'호선'\n",
    "    else:\n",
    "        df_old.loc[i, '호선']=str(df_old.iloc[i]['역번호'])[1]+'호선'"
   ]
  },
  {
   "cell_type": "code",
   "execution_count": 87,
   "id": "0023cc6f",
   "metadata": {},
   "outputs": [],
   "source": [
    "df_old.drop(columns=['역번호'], inplace=True)"
   ]
  },
  {
   "cell_type": "code",
   "execution_count": 88,
   "id": "0e4fc021",
   "metadata": {},
   "outputs": [
    {
     "name": "stderr",
     "output_type": "stream",
     "text": [
      "C:\\Users\\tjoeun\\AppData\\Local\\Temp\\ipykernel_8808\\1133549318.py:1: FutureWarning: The default value of numeric_only in DataFrameGroupBy.mean is deprecated. In a future version, numeric_only will default to False. Either specify numeric_only or select only columns which should be valid for the function.\n",
      "  df_old=df_old.groupby(by=['역명','구분','호선']).mean().reset_index()\n"
     ]
    }
   ],
   "source": [
    "df_old=df_old.groupby(by=['역명','구분','호선']).mean().reset_index()"
   ]
  },
  {
   "cell_type": "code",
   "execution_count": 89,
   "id": "2b94c904",
   "metadata": {},
   "outputs": [],
   "source": [
    "df_old.sort_values(['호선','역명'], inplace=True)"
   ]
  },
  {
   "cell_type": "code",
   "execution_count": 90,
   "id": "f47abe98",
   "metadata": {},
   "outputs": [],
   "source": [
    "# 출퇴근 시간대 데이터 추출\n",
    "df_old_g=df_old[['역명','호선','구분','07시-08시','08시-09시','09시-10시']] # 출근\n",
    "df_old_l=df_old[['역명','호선','구분','17시-18시','18시-19시','19시-20시']] # 퇴근"
   ]
  },
  {
   "cell_type": "code",
   "execution_count": null,
   "id": "793bf018",
   "metadata": {},
   "outputs": [],
   "source": []
  }
 ],
 "metadata": {
  "kernelspec": {
   "display_name": "Python 3 (ipykernel)",
   "language": "python",
   "name": "python3"
  },
  "language_info": {
   "codemirror_mode": {
    "name": "ipython",
    "version": 3
   },
   "file_extension": ".py",
   "mimetype": "text/x-python",
   "name": "python",
   "nbconvert_exporter": "python",
   "pygments_lexer": "ipython3",
   "version": "3.8.7"
  }
 },
 "nbformat": 4,
 "nbformat_minor": 5
}
