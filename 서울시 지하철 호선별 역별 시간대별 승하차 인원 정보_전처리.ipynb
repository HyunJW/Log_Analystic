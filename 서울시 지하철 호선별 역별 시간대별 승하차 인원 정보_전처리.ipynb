{
 "cells": [
  {
   "cell_type": "code",
   "execution_count": 1,
   "id": "7126d04a",
   "metadata": {},
   "outputs": [],
   "source": [
    "import pandas as pd"
   ]
  },
  {
   "cell_type": "code",
   "execution_count": 23,
   "id": "7741585b",
   "metadata": {},
   "outputs": [],
   "source": [
    "df=pd.read_csv(\"서울시 지하철 호선별 역별 시간대별 승하차 인원 정보.csv\", encoding='cp949')"
   ]
  },
  {
   "cell_type": "code",
   "execution_count": 3,
   "id": "0ddf88af",
   "metadata": {},
   "outputs": [
    {
     "data": {
      "text/html": [
       "<div>\n",
       "<style scoped>\n",
       "    .dataframe tbody tr th:only-of-type {\n",
       "        vertical-align: middle;\n",
       "    }\n",
       "\n",
       "    .dataframe tbody tr th {\n",
       "        vertical-align: top;\n",
       "    }\n",
       "\n",
       "    .dataframe thead th {\n",
       "        text-align: right;\n",
       "    }\n",
       "</style>\n",
       "<table border=\"1\" class=\"dataframe\">\n",
       "  <thead>\n",
       "    <tr style=\"text-align: right;\">\n",
       "      <th></th>\n",
       "      <th>사용월</th>\n",
       "      <th>호선명</th>\n",
       "      <th>지하철역</th>\n",
       "      <th>04시-05시 승차인원</th>\n",
       "      <th>04시-05시 하차인원</th>\n",
       "      <th>05시-06시 승차인원</th>\n",
       "      <th>05시-06시 하차인원</th>\n",
       "      <th>06시-07시 승차인원</th>\n",
       "      <th>06시-07시 하차인원</th>\n",
       "      <th>07시-08시 승차인원</th>\n",
       "      <th>...</th>\n",
       "      <th>23시-24시 하차인원</th>\n",
       "      <th>00시-01시 승차인원</th>\n",
       "      <th>00시-01시 하차인원</th>\n",
       "      <th>01시-02시 승차인원</th>\n",
       "      <th>01시-02시 하차인원</th>\n",
       "      <th>02시-03시 승차인원</th>\n",
       "      <th>02시-03시 하차인원</th>\n",
       "      <th>03시-04시 승차인원</th>\n",
       "      <th>03시-04시 하차인원</th>\n",
       "      <th>작업일자</th>\n",
       "    </tr>\n",
       "  </thead>\n",
       "  <tbody>\n",
       "    <tr>\n",
       "      <th>0</th>\n",
       "      <td>202301</td>\n",
       "      <td>1호선</td>\n",
       "      <td>동대문</td>\n",
       "      <td>717</td>\n",
       "      <td>11</td>\n",
       "      <td>9399</td>\n",
       "      <td>1791</td>\n",
       "      <td>7814</td>\n",
       "      <td>5063</td>\n",
       "      <td>11183</td>\n",
       "      <td>...</td>\n",
       "      <td>7667</td>\n",
       "      <td>529</td>\n",
       "      <td>2104</td>\n",
       "      <td>5</td>\n",
       "      <td>254</td>\n",
       "      <td>0</td>\n",
       "      <td>0</td>\n",
       "      <td>0</td>\n",
       "      <td>0</td>\n",
       "      <td>20230203</td>\n",
       "    </tr>\n",
       "    <tr>\n",
       "      <th>1</th>\n",
       "      <td>202301</td>\n",
       "      <td>1호선</td>\n",
       "      <td>동묘앞</td>\n",
       "      <td>176</td>\n",
       "      <td>5</td>\n",
       "      <td>2429</td>\n",
       "      <td>929</td>\n",
       "      <td>3063</td>\n",
       "      <td>4244</td>\n",
       "      <td>5788</td>\n",
       "      <td>...</td>\n",
       "      <td>3400</td>\n",
       "      <td>80</td>\n",
       "      <td>1320</td>\n",
       "      <td>3</td>\n",
       "      <td>330</td>\n",
       "      <td>0</td>\n",
       "      <td>0</td>\n",
       "      <td>0</td>\n",
       "      <td>0</td>\n",
       "      <td>20230203</td>\n",
       "    </tr>\n",
       "    <tr>\n",
       "      <th>2</th>\n",
       "      <td>202301</td>\n",
       "      <td>1호선</td>\n",
       "      <td>서울역</td>\n",
       "      <td>555</td>\n",
       "      <td>27</td>\n",
       "      <td>6560</td>\n",
       "      <td>7430</td>\n",
       "      <td>11059</td>\n",
       "      <td>41800</td>\n",
       "      <td>36434</td>\n",
       "      <td>...</td>\n",
       "      <td>12316</td>\n",
       "      <td>3388</td>\n",
       "      <td>2777</td>\n",
       "      <td>69</td>\n",
       "      <td>235</td>\n",
       "      <td>0</td>\n",
       "      <td>5</td>\n",
       "      <td>0</td>\n",
       "      <td>0</td>\n",
       "      <td>20230203</td>\n",
       "    </tr>\n",
       "    <tr>\n",
       "      <th>3</th>\n",
       "      <td>202301</td>\n",
       "      <td>1호선</td>\n",
       "      <td>시청</td>\n",
       "      <td>95</td>\n",
       "      <td>0</td>\n",
       "      <td>2103</td>\n",
       "      <td>3753</td>\n",
       "      <td>3123</td>\n",
       "      <td>19320</td>\n",
       "      <td>6859</td>\n",
       "      <td>...</td>\n",
       "      <td>3160</td>\n",
       "      <td>353</td>\n",
       "      <td>703</td>\n",
       "      <td>1</td>\n",
       "      <td>22</td>\n",
       "      <td>0</td>\n",
       "      <td>0</td>\n",
       "      <td>0</td>\n",
       "      <td>0</td>\n",
       "      <td>20230203</td>\n",
       "    </tr>\n",
       "    <tr>\n",
       "      <th>4</th>\n",
       "      <td>202301</td>\n",
       "      <td>1호선</td>\n",
       "      <td>신설동</td>\n",
       "      <td>273</td>\n",
       "      <td>6</td>\n",
       "      <td>7568</td>\n",
       "      <td>1962</td>\n",
       "      <td>8198</td>\n",
       "      <td>6829</td>\n",
       "      <td>18129</td>\n",
       "      <td>...</td>\n",
       "      <td>7998</td>\n",
       "      <td>319</td>\n",
       "      <td>1941</td>\n",
       "      <td>3</td>\n",
       "      <td>28</td>\n",
       "      <td>1</td>\n",
       "      <td>0</td>\n",
       "      <td>0</td>\n",
       "      <td>0</td>\n",
       "      <td>20230203</td>\n",
       "    </tr>\n",
       "  </tbody>\n",
       "</table>\n",
       "<p>5 rows × 52 columns</p>\n",
       "</div>"
      ],
      "text/plain": [
       "      사용월  호선명 지하철역  04시-05시 승차인원  04시-05시 하차인원  05시-06시 승차인원  05시-06시 하차인원  \\\n",
       "0  202301  1호선  동대문           717            11          9399          1791   \n",
       "1  202301  1호선  동묘앞           176             5          2429           929   \n",
       "2  202301  1호선  서울역           555            27          6560          7430   \n",
       "3  202301  1호선   시청            95             0          2103          3753   \n",
       "4  202301  1호선  신설동           273             6          7568          1962   \n",
       "\n",
       "   06시-07시 승차인원  06시-07시 하차인원  07시-08시 승차인원  ...  23시-24시 하차인원  00시-01시 승차인원  \\\n",
       "0          7814          5063         11183  ...          7667           529   \n",
       "1          3063          4244          5788  ...          3400            80   \n",
       "2         11059         41800         36434  ...         12316          3388   \n",
       "3          3123         19320          6859  ...          3160           353   \n",
       "4          8198          6829         18129  ...          7998           319   \n",
       "\n",
       "   00시-01시 하차인원  01시-02시 승차인원  01시-02시 하차인원  02시-03시 승차인원  02시-03시 하차인원  \\\n",
       "0          2104             5           254             0             0   \n",
       "1          1320             3           330             0             0   \n",
       "2          2777            69           235             0             5   \n",
       "3           703             1            22             0             0   \n",
       "4          1941             3            28             1             0   \n",
       "\n",
       "   03시-04시 승차인원  03시-04시 하차인원      작업일자  \n",
       "0             0             0  20230203  \n",
       "1             0             0  20230203  \n",
       "2             0             0  20230203  \n",
       "3             0             0  20230203  \n",
       "4             0             0  20230203  \n",
       "\n",
       "[5 rows x 52 columns]"
      ]
     },
     "execution_count": 3,
     "metadata": {},
     "output_type": "execute_result"
    }
   ],
   "source": [
    "df.head()"
   ]
  },
  {
   "cell_type": "code",
   "execution_count": 4,
   "id": "4ec75f6b",
   "metadata": {
    "scrolled": true
   },
   "outputs": [
    {
     "data": {
      "text/plain": [
       "array(['1호선', '2호선', '3호선', '4호선', '5호선', '6호선', '7호선', '8호선', '9호선',\n",
       "       '9호선2~3단계', '경강선', '경부선', '경원선', '경의선', '경인선', '경춘선', '공항철도 1호선',\n",
       "       '과천선', '분당선', '수인선', '신림선', '안산선', '우이신설선', '일산선', '장항선', '중앙선',\n",
       "       '9호선2단계'], dtype=object)"
      ]
     },
     "execution_count": 4,
     "metadata": {},
     "output_type": "execute_result"
    }
   ],
   "source": [
    "df['호선명'].unique()"
   ]
  },
  {
   "cell_type": "markdown",
   "id": "ec1d238b",
   "metadata": {},
   "source": [
    "### 2호선 전처리"
   ]
  },
  {
   "cell_type": "code",
   "execution_count": 58,
   "id": "0cbdbf2e",
   "metadata": {},
   "outputs": [
    {
     "data": {
      "text/plain": [
       "array(['강남', '강변(동서울터미널)', '건대입구', '교대', '구로디지털단지', '구의(광진구청)',\n",
       "       '낙성대(강감찬)', '당산', '대림(구로구청)', '도림천', '동대문역사문화공원', '뚝섬', '문래', '방배',\n",
       "       '봉천', '사당', '삼성(무역센터)', '상왕십리', '서울대입구(관악구청)', '서초', '선릉', '성수',\n",
       "       '시청', '신답', '신당', '신대방', '신도림', '신림', '신설동', '신정네거리', '신촌', '아현',\n",
       "       '양천구청', '역삼', '영등포구청', '왕십리(성동구청)', '용답', '용두(동대문구청)', '을지로3가',\n",
       "       '을지로4가', '을지로입구', '이대', '잠실(송파구청)', '잠실나루', '잠실새내', '종합운동장', '충정로',\n",
       "       '한양대', '합정', '홍대입구', '낙성대', '신천', '강변', '구의', '대림', '삼성', '서울대입구',\n",
       "       '용두', '잠실'], dtype=object)"
      ]
     },
     "execution_count": 58,
     "metadata": {},
     "output_type": "execute_result"
    }
   ],
   "source": [
    "df[df['호선명']=='2호선']['지하철역'].unique() #59개"
   ]
  },
  {
   "cell_type": "code",
   "execution_count": 59,
   "id": "3006ac9c",
   "metadata": {},
   "outputs": [],
   "source": [
    "# 강변(동서울터미널)=강변\n",
    "# 낙성대(강감찬)=낙성대\n",
    "# 대림(구로구청)=대림\n",
    "# 삼성(무역센터)=삼성\n",
    "# 서울대입구(관악구청)=서울대입구\n",
    "# 용두(동대문구청)=용두\n",
    "# 잠실(송파구청)=잠실\n",
    "# 구의(광진구청)=구의\n",
    "df = df.replace('강변(동서울터미널)', '강변')\n",
    "df = df.replace('낙성대(강감찬)', '낙성대')\n",
    "df = df.replace('대림(구로구청)', '대림')\n",
    "df = df.replace('삼성(무역센터)', '삼성')\n",
    "df = df.replace('서울대입구(관악구청)', '서울대입구')\n",
    "df = df.replace('용두(동대문구청)', '용두')\n",
    "df = df.replace('잠실(송파구청)', '잠실')\n",
    "df = df.replace('구의(광진구청)', '구의')"
   ]
  },
  {
   "cell_type": "code",
   "execution_count": 62,
   "id": "2fc432b0",
   "metadata": {},
   "outputs": [
    {
     "data": {
      "text/plain": [
       "array(['강남', '강변', '건대입구', '교대', '구로디지털단지', '구의', '낙성대', '당산', '대림',\n",
       "       '도림천', '동대문역사문화공원', '뚝섬', '문래', '방배', '봉천', '사당', '삼성', '상왕십리',\n",
       "       '서울대입구', '서초', '선릉', '성수', '시청', '신답', '신당', '신대방', '신도림', '신림',\n",
       "       '신설동', '신정네거리', '신촌', '아현', '양천구청', '역삼', '영등포구청', '왕십리(성동구청)',\n",
       "       '용답', '용두', '을지로3가', '을지로4가', '을지로입구', '이대', '잠실', '잠실나루', '잠실새내',\n",
       "       '종합운동장', '충정로', '한양대', '합정', '홍대입구', '신천'], dtype=object)"
      ]
     },
     "execution_count": 62,
     "metadata": {},
     "output_type": "execute_result"
    }
   ],
   "source": [
    "df[df['호선명']=='2호선']['지하철역'].unique() #51개"
   ]
  },
  {
   "cell_type": "markdown",
   "id": "754b373a",
   "metadata": {},
   "source": [
    "### 3호선 전처리"
   ]
  },
  {
   "cell_type": "code",
   "execution_count": 24,
   "id": "e0d26b18",
   "metadata": {},
   "outputs": [],
   "source": [
    "df = df.replace('일산선', '3호선')"
   ]
  },
  {
   "cell_type": "code",
   "execution_count": 32,
   "id": "7dd385bb",
   "metadata": {},
   "outputs": [
    {
     "data": {
      "text/plain": [
       "array(['가락시장', '경복궁(정부서울청사)', '경찰병원', '고속터미널', '교대(법원.검찰청)', '구파발', '금호',\n",
       "       '남부터미널(예술의전당)', '녹번', '대청', '대치', '도곡', '독립문', '동대입구', '매봉', '무악재',\n",
       "       '불광', '수서', '신사', '안국', '압구정', '약수', '양재(서초구청)', '연신내', '오금', '옥수',\n",
       "       '을지로3가', '일원', '잠원', '종로3가', '지축', '충무로', '학여울', '홍제', '대곡', '대화',\n",
       "       '마두', '백석', '삼송', '원당', '원흥', '정발산', '주엽', '화정', '경복궁', '교대',\n",
       "       '남부터미널', '양재'], dtype=object)"
      ]
     },
     "execution_count": 32,
     "metadata": {},
     "output_type": "execute_result"
    }
   ],
   "source": [
    "df[df['호선명']=='3호선']['지하철역'].unique() #48개"
   ]
  },
  {
   "cell_type": "code",
   "execution_count": 33,
   "id": "eef3be3c",
   "metadata": {},
   "outputs": [],
   "source": [
    "# 경복궁(정부서울청사)=경복궁\n",
    "#교대(법원.검찰청)=법원\n",
    "#남부터미널(예술의전당)=남부터미널\n",
    "#양재(서초구청)=양재\n",
    "df = df.replace('경복궁(정부서울청사)', '경복궁')\n",
    "df = df.replace('교대(법원.검찰청)', '교대')\n",
    "df = df.replace('남부터미널(예술의전당)', '남부터미널')\n",
    "df = df.replace('양재(서초구청)', '양재')"
   ]
  },
  {
   "cell_type": "code",
   "execution_count": 36,
   "id": "a6fa868a",
   "metadata": {},
   "outputs": [
    {
     "data": {
      "text/plain": [
       "44"
      ]
     },
     "execution_count": 36,
     "metadata": {},
     "output_type": "execute_result"
    }
   ],
   "source": [
    "df[df['호선명']=='3호선']['지하철역'].unique() #44개"
   ]
  },
  {
   "cell_type": "markdown",
   "id": "345f124b",
   "metadata": {},
   "source": [
    "### 4호선 전처리"
   ]
  },
  {
   "cell_type": "code",
   "execution_count": 26,
   "id": "0cfc294e",
   "metadata": {},
   "outputs": [],
   "source": [
    "df = df.replace(['안산선','과천선'], '4호선')"
   ]
  },
  {
   "cell_type": "code",
   "execution_count": 37,
   "id": "f142e80a",
   "metadata": {},
   "outputs": [
    {
     "data": {
      "text/plain": [
       "array(['길음', '남태령', '노원', '당고개', '동대문', '동대문역사문화공원(DDP)', '동작(현충원)', '명동',\n",
       "       '미아(서울사이버대학)', '미아사거리', '사당', '삼각지', '상계', '서울역', '성신여대입구(돈암)',\n",
       "       '수유(강북구청)', '숙대입구(갈월)', '신용산', '쌍문', '이촌(국립중앙박물관)', '창동',\n",
       "       '총신대입구(이수)', '충무로', '한성대입구(삼선교)', '혜화', '회현(남대문시장)', '경마공원', '과천',\n",
       "       '대공원', '범계', '선바위', '인덕원', '정부과천청사', '평촌', '고잔', '대야미', '반월', '산본',\n",
       "       '상록수', '수리산', '신길온천', '안산', '오이도', '정왕', '중앙', '초지', '한대앞',\n",
       "       '동대문역사문화공원', '동작', '미아', '성신여대입구', '숙대입구', '이촌', '총신대입구', '한성대입구',\n",
       "       '회현'], dtype=object)"
      ]
     },
     "execution_count": 37,
     "metadata": {},
     "output_type": "execute_result"
    }
   ],
   "source": [
    "df[df['호선명']=='4호선']['지하철역'].unique() #56개"
   ]
  },
  {
   "cell_type": "code",
   "execution_count": 38,
   "id": "3c941e8c",
   "metadata": {},
   "outputs": [],
   "source": [
    "# 동대문역사문화공원(DDP)=동대문역사문화공원\n",
    "# 동작(현충원)=동작\n",
    "# 미아(서울사이버대학)=미아\n",
    "# 성신여대입구(돈암)=성신여대입구\n",
    "# 숙대입구(갈월)=숙대입구\n",
    "# 이촌(국립중앙박물관)=이촌\n",
    "# 총신대입구(이수)=총신대입구\n",
    "# 한성대입구(삼선교)=한성대입구\n",
    "# 회현(남대문시장)=회현\n",
    "df = df.replace('동대문역사문화공원(DDP)', '동대문역사문화공원')\n",
    "df = df.replace('동작(현충원)', '동작')\n",
    "df = df.replace('미아(서울사이버대학)', '미아')\n",
    "df = df.replace('성신여대입구(돈암)', '성신여대입구')\n",
    "df = df.replace('숙대입구(갈월)', '숙대입구')\n",
    "df = df.replace('이촌(국립중앙박물관)', '이촌')\n",
    "df = df.replace('총신대입구(이수)', '총신대입구')\n",
    "df = df.replace('한성대입구(삼선교)', '한성대입구')\n",
    "df = df.replace('회현(남대문시장)', '회현')"
   ]
  },
  {
   "cell_type": "code",
   "execution_count": 40,
   "id": "ce8191f8",
   "metadata": {},
   "outputs": [
    {
     "data": {
      "text/plain": [
       "array(['길음', '남태령', '노원', '당고개', '동대문', '동대문역사문화공원', '동작', '명동', '미아',\n",
       "       '미아사거리', '사당', '삼각지', '상계', '서울역', '성신여대입구', '수유(강북구청)', '숙대입구',\n",
       "       '신용산', '쌍문', '이촌', '창동', '총신대입구', '충무로', '한성대입구', '혜화', '회현',\n",
       "       '경마공원', '과천', '대공원', '범계', '선바위', '인덕원', '정부과천청사', '평촌', '고잔',\n",
       "       '대야미', '반월', '산본', '상록수', '수리산', '신길온천', '안산', '오이도', '정왕', '중앙',\n",
       "       '초지', '한대앞'], dtype=object)"
      ]
     },
     "execution_count": 40,
     "metadata": {},
     "output_type": "execute_result"
    }
   ],
   "source": [
    "df[df['호선명']=='4호선']['지하철역'].unique() #47개\n",
    "#### '금정역'이 1호선과 4호선인데 경부선(1호선)에만 포함되어있음! ####"
   ]
  },
  {
   "cell_type": "markdown",
   "id": "e0c4de10",
   "metadata": {},
   "source": [
    "### 5호선 전처리"
   ]
  },
  {
   "cell_type": "code",
   "execution_count": 48,
   "id": "b267c928",
   "metadata": {},
   "outputs": [],
   "source": [
    "df = df.replace('하남선', '5호선')"
   ]
  },
  {
   "cell_type": "code",
   "execution_count": 51,
   "id": "65522671",
   "metadata": {},
   "outputs": [
    {
     "data": {
      "text/plain": [
       "array(['강동', '강일', '개롱', '개화산', '거여', '고덕', '공덕', '광나루(장신대)',\n",
       "       '광화문(세종문화회관)', '군자(능동)', '굽은다리(강동구민회관앞)', '길동', '김포공항', '까치산',\n",
       "       '답십리', '동대문역사문화공원', '둔촌동', '마곡', '마장', '마천', '마포', '명일', '목동',\n",
       "       '미사', '발산', '방이', '방화', '상일동', '서대문', '송정', '신금호', '신길', '신정(은행정)',\n",
       "       '아차산(어린이대공원후문)', '애오개', '양평', '여의나루', '여의도', '영등포구청', '영등포시장',\n",
       "       '오금', '오목교(목동운동장앞)', '올림픽공원(한국체대)', '왕십리(성동구청)', '우장산', '을지로4가',\n",
       "       '장한평', '종로3가', '천호(풍납토성)', '청구', '충정로(경기대입구)', '하남검단산',\n",
       "       '하남시청(덕풍?신장)', '하남풍산', '행당', '화곡', '광나루', '광화문', '군자', '굽은다리',\n",
       "       '신정', '아차산', '오목교', '올림픽공원', '천호', '충정로'], dtype=object)"
      ]
     },
     "execution_count": 51,
     "metadata": {},
     "output_type": "execute_result"
    }
   ],
   "source": [
    "df[df['호선명']=='5호선']['지하철역'].unique() #66개"
   ]
  },
  {
   "cell_type": "code",
   "execution_count": 52,
   "id": "9d04cd78",
   "metadata": {},
   "outputs": [],
   "source": [
    "# 광나루(장신대)=광나루\n",
    "# 광화문(세종문화회관)=광화문\n",
    "# 군자(능동)=군자\n",
    "# 굽은다리(강동구민회관앞)=굽은다리\n",
    "# 신정(은행정)=신정\n",
    "# 아차산(어린이대공원후문)=아차산\n",
    "# 오목교(목동운동장앞)=오목교\n",
    "# 올림픽공원(한국체대)=올림픽공원\n",
    "# 충정로(경기대입구)=충정로\n",
    "# 천호(풍납토성)=천호\n",
    "df = df.replace('광나루(장신대)', '광나루')\n",
    "df = df.replace('광화문(세종문화회관)', '광화문')\n",
    "df = df.replace('군자(능동)', '군자')\n",
    "df = df.replace('굽은다리(강동구민회관앞)', '굽은다리')\n",
    "df = df.replace('신정(은행정)', '신정')\n",
    "df = df.replace('아차산(어린이대공원후문)', '아차산')\n",
    "df = df.replace('오목교(목동운동장앞)', '오목교')\n",
    "df = df.replace('올림픽공원(한국체대)', '올림픽공원')\n",
    "df = df.replace('충정로(경기대입구)', '충정로')\n",
    "df = df.replace('천호(풍납토성)', '천호')"
   ]
  },
  {
   "cell_type": "code",
   "execution_count": 54,
   "id": "456cf3c0",
   "metadata": {},
   "outputs": [
    {
     "data": {
      "text/plain": [
       "56"
      ]
     },
     "execution_count": 54,
     "metadata": {},
     "output_type": "execute_result"
    }
   ],
   "source": [
    "df[df['호선명']=='5호선']['지하철역'].unique() #56개"
   ]
  },
  {
   "cell_type": "markdown",
   "id": "3f386f10",
   "metadata": {},
   "source": [
    "### 8호선 전처리"
   ]
  },
  {
   "cell_type": "code",
   "execution_count": 80,
   "id": "d99d660a",
   "metadata": {},
   "outputs": [
    {
     "data": {
      "text/plain": [
       "array(['가락시장', '강동구청', '남위례', '남한산성입구(성남법원.검찰청)', '단대오거리', '모란',\n",
       "       '몽촌토성(평화의문)', '문정', '복정', '산성', '석촌', '송파', '수진', '신흥', '암사', '잠실',\n",
       "       '장지', '천호', '남한산성입구', '몽촌토성'], dtype=object)"
      ]
     },
     "execution_count": 80,
     "metadata": {},
     "output_type": "execute_result"
    }
   ],
   "source": [
    "df[df['호선명']=='8호선']['지하철역'].unique() #20개"
   ]
  },
  {
   "cell_type": "code",
   "execution_count": 81,
   "id": "fafe7692",
   "metadata": {},
   "outputs": [],
   "source": [
    "# 남한산성입구(성남법원.검찰청)=남한산성입구\n",
    "# 몽촌토성(평화의문)=몽촌토성\n",
    "df = df.replace('남한산성입구(성남법원.검찰청)', '남한산성입구')\n",
    "df = df.replace('몽촌토성(평화의문)', '몽촌토성')"
   ]
  },
  {
   "cell_type": "code",
   "execution_count": 84,
   "id": "fd19106e",
   "metadata": {
    "scrolled": true
   },
   "outputs": [
    {
     "data": {
      "text/plain": [
       "array(['가락시장', '강동구청', '남위례', '남한산성입구', '단대오거리', '모란', '몽촌토성', '문정', '복정',\n",
       "       '산성', '석촌', '송파', '수진', '신흥', '암사', '잠실', '장지', '천호'], dtype=object)"
      ]
     },
     "execution_count": 84,
     "metadata": {},
     "output_type": "execute_result"
    }
   ],
   "source": [
    "df[df['호선명']=='8호선']['지하철역'].unique() #18개"
   ]
  },
  {
   "cell_type": "markdown",
   "id": "6663a202",
   "metadata": {},
   "source": [
    "### 9호선 전처리"
   ]
  },
  {
   "cell_type": "code",
   "execution_count": 70,
   "id": "b68fea32",
   "metadata": {},
   "outputs": [
    {
     "data": {
      "text/plain": [
       "array(['9호선', '9호선2~3단계', '9호선2단계'], dtype=object)"
      ]
     },
     "execution_count": 70,
     "metadata": {},
     "output_type": "execute_result"
    }
   ],
   "source": [
    "df[df['호선명'].str.contains('9호선')]['호선명'].unique()"
   ]
  },
  {
   "cell_type": "code",
   "execution_count": 71,
   "id": "56cd072a",
   "metadata": {},
   "outputs": [],
   "source": [
    "df = df.replace(['9호선2~3단계','9호선2단계'], '9호선')"
   ]
  },
  {
   "cell_type": "code",
   "execution_count": 75,
   "id": "dc9a2fbe",
   "metadata": {},
   "outputs": [
    {
     "data": {
      "text/plain": [
       "array(['가양', '개화', '고속터미널', '공항시장', '구반포', '국회의사당', '김포공항', '노들', '노량진',\n",
       "       '당산', '동작', '등촌', '마곡나루(서울식물원)', '사평', '샛강', '선유도', '신논현', '신목동',\n",
       "       '신반포', '신방화', '양천향교', '여의도', '염창', '증미', '흑석(중앙대입구)', '둔촌오륜',\n",
       "       '봉은사', '삼성중앙', '삼전', '석촌', '석촌고분', '선정릉', '송파나루', '언주', '올림픽공원',\n",
       "       '종합운동장', '중앙보훈병원', '한성백제', '마곡나루'], dtype=object)"
      ]
     },
     "execution_count": 75,
     "metadata": {},
     "output_type": "execute_result"
    }
   ],
   "source": [
    "df[df['호선명']=='9호선']['지하철역'].unique() #39개"
   ]
  },
  {
   "cell_type": "code",
   "execution_count": 76,
   "id": "9545f738",
   "metadata": {},
   "outputs": [],
   "source": [
    "# 마곡나루(서울식물원)=마곡나루\n",
    "df = df.replace('마곡나루(서울식물원)', '마곡나루')"
   ]
  },
  {
   "cell_type": "code",
   "execution_count": 78,
   "id": "e611af06",
   "metadata": {
    "scrolled": true
   },
   "outputs": [
    {
     "data": {
      "text/plain": [
       "array(['가양', '개화', '고속터미널', '공항시장', '구반포', '국회의사당', '김포공항', '노들', '노량진',\n",
       "       '당산', '동작', '등촌', '마곡나루', '사평', '샛강', '선유도', '신논현', '신목동', '신반포',\n",
       "       '신방화', '양천향교', '여의도', '염창', '증미', '흑석(중앙대입구)', '둔촌오륜', '봉은사',\n",
       "       '삼성중앙', '삼전', '석촌', '석촌고분', '선정릉', '송파나루', '언주', '올림픽공원', '종합운동장',\n",
       "       '중앙보훈병원', '한성백제'], dtype=object)"
      ]
     },
     "execution_count": 78,
     "metadata": {},
     "output_type": "execute_result"
    }
   ],
   "source": [
    "df[df['호선명']=='9호선']['지하철역'].unique() #38개"
   ]
  }
 ],
 "metadata": {
  "kernelspec": {
   "display_name": "Python 3 (ipykernel)",
   "language": "python",
   "name": "python3"
  },
  "language_info": {
   "codemirror_mode": {
    "name": "ipython",
    "version": 3
   },
   "file_extension": ".py",
   "mimetype": "text/x-python",
   "name": "python",
   "nbconvert_exporter": "python",
   "pygments_lexer": "ipython3",
   "version": "3.8.7"
  }
 },
 "nbformat": 4,
 "nbformat_minor": 5
}
