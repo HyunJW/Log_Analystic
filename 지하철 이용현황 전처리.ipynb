{
 "cells": [
  {
   "cell_type": "markdown",
   "id": "63804ac4",
   "metadata": {},
   "source": [
    "# 지하철 월별 시간대별 이용현황"
   ]
  },
  {
   "cell_type": "code",
   "execution_count": 1,
   "id": "31d75310",
   "metadata": {},
   "outputs": [],
   "source": [
    "import pandas as pd"
   ]
  },
  {
   "cell_type": "code",
   "execution_count": 2,
   "id": "30c5a867",
   "metadata": {},
   "outputs": [],
   "source": [
    "# 데이터 로드\n",
    "df = pd.read_csv('./서울시 지하철 호선별 역별 시간대별 승하차 인원 정보.csv', encoding='cp949')"
   ]
  },
  {
   "cell_type": "markdown",
   "id": "e85b361c",
   "metadata": {},
   "source": [
    "## 데이터 확인 및 전처리"
   ]
  },
  {
   "cell_type": "code",
   "execution_count": 3,
   "id": "a82e7e6a",
   "metadata": {
    "scrolled": true
   },
   "outputs": [
    {
     "data": {
      "text/html": [
       "<div>\n",
       "<style scoped>\n",
       "    .dataframe tbody tr th:only-of-type {\n",
       "        vertical-align: middle;\n",
       "    }\n",
       "\n",
       "    .dataframe tbody tr th {\n",
       "        vertical-align: top;\n",
       "    }\n",
       "\n",
       "    .dataframe thead th {\n",
       "        text-align: right;\n",
       "    }\n",
       "</style>\n",
       "<table border=\"1\" class=\"dataframe\">\n",
       "  <thead>\n",
       "    <tr style=\"text-align: right;\">\n",
       "      <th></th>\n",
       "      <th>사용월</th>\n",
       "      <th>호선명</th>\n",
       "      <th>지하철역</th>\n",
       "      <th>04시-05시 승차인원</th>\n",
       "      <th>04시-05시 하차인원</th>\n",
       "      <th>05시-06시 승차인원</th>\n",
       "      <th>05시-06시 하차인원</th>\n",
       "      <th>06시-07시 승차인원</th>\n",
       "      <th>06시-07시 하차인원</th>\n",
       "      <th>07시-08시 승차인원</th>\n",
       "      <th>...</th>\n",
       "      <th>23시-24시 하차인원</th>\n",
       "      <th>00시-01시 승차인원</th>\n",
       "      <th>00시-01시 하차인원</th>\n",
       "      <th>01시-02시 승차인원</th>\n",
       "      <th>01시-02시 하차인원</th>\n",
       "      <th>02시-03시 승차인원</th>\n",
       "      <th>02시-03시 하차인원</th>\n",
       "      <th>03시-04시 승차인원</th>\n",
       "      <th>03시-04시 하차인원</th>\n",
       "      <th>작업일자</th>\n",
       "    </tr>\n",
       "  </thead>\n",
       "  <tbody>\n",
       "    <tr>\n",
       "      <th>0</th>\n",
       "      <td>202301</td>\n",
       "      <td>1호선</td>\n",
       "      <td>동대문</td>\n",
       "      <td>717</td>\n",
       "      <td>11</td>\n",
       "      <td>9399</td>\n",
       "      <td>1791</td>\n",
       "      <td>7814</td>\n",
       "      <td>5063</td>\n",
       "      <td>11183</td>\n",
       "      <td>...</td>\n",
       "      <td>7667</td>\n",
       "      <td>529</td>\n",
       "      <td>2104</td>\n",
       "      <td>5</td>\n",
       "      <td>254</td>\n",
       "      <td>0</td>\n",
       "      <td>0</td>\n",
       "      <td>0</td>\n",
       "      <td>0</td>\n",
       "      <td>20230203</td>\n",
       "    </tr>\n",
       "    <tr>\n",
       "      <th>1</th>\n",
       "      <td>202301</td>\n",
       "      <td>1호선</td>\n",
       "      <td>동묘앞</td>\n",
       "      <td>176</td>\n",
       "      <td>5</td>\n",
       "      <td>2429</td>\n",
       "      <td>929</td>\n",
       "      <td>3063</td>\n",
       "      <td>4244</td>\n",
       "      <td>5788</td>\n",
       "      <td>...</td>\n",
       "      <td>3400</td>\n",
       "      <td>80</td>\n",
       "      <td>1320</td>\n",
       "      <td>3</td>\n",
       "      <td>330</td>\n",
       "      <td>0</td>\n",
       "      <td>0</td>\n",
       "      <td>0</td>\n",
       "      <td>0</td>\n",
       "      <td>20230203</td>\n",
       "    </tr>\n",
       "    <tr>\n",
       "      <th>2</th>\n",
       "      <td>202301</td>\n",
       "      <td>1호선</td>\n",
       "      <td>서울역</td>\n",
       "      <td>555</td>\n",
       "      <td>27</td>\n",
       "      <td>6560</td>\n",
       "      <td>7430</td>\n",
       "      <td>11059</td>\n",
       "      <td>41800</td>\n",
       "      <td>36434</td>\n",
       "      <td>...</td>\n",
       "      <td>12316</td>\n",
       "      <td>3388</td>\n",
       "      <td>2777</td>\n",
       "      <td>69</td>\n",
       "      <td>235</td>\n",
       "      <td>0</td>\n",
       "      <td>5</td>\n",
       "      <td>0</td>\n",
       "      <td>0</td>\n",
       "      <td>20230203</td>\n",
       "    </tr>\n",
       "    <tr>\n",
       "      <th>3</th>\n",
       "      <td>202301</td>\n",
       "      <td>1호선</td>\n",
       "      <td>시청</td>\n",
       "      <td>95</td>\n",
       "      <td>0</td>\n",
       "      <td>2103</td>\n",
       "      <td>3753</td>\n",
       "      <td>3123</td>\n",
       "      <td>19320</td>\n",
       "      <td>6859</td>\n",
       "      <td>...</td>\n",
       "      <td>3160</td>\n",
       "      <td>353</td>\n",
       "      <td>703</td>\n",
       "      <td>1</td>\n",
       "      <td>22</td>\n",
       "      <td>0</td>\n",
       "      <td>0</td>\n",
       "      <td>0</td>\n",
       "      <td>0</td>\n",
       "      <td>20230203</td>\n",
       "    </tr>\n",
       "    <tr>\n",
       "      <th>4</th>\n",
       "      <td>202301</td>\n",
       "      <td>1호선</td>\n",
       "      <td>신설동</td>\n",
       "      <td>273</td>\n",
       "      <td>6</td>\n",
       "      <td>7568</td>\n",
       "      <td>1962</td>\n",
       "      <td>8198</td>\n",
       "      <td>6829</td>\n",
       "      <td>18129</td>\n",
       "      <td>...</td>\n",
       "      <td>7998</td>\n",
       "      <td>319</td>\n",
       "      <td>1941</td>\n",
       "      <td>3</td>\n",
       "      <td>28</td>\n",
       "      <td>1</td>\n",
       "      <td>0</td>\n",
       "      <td>0</td>\n",
       "      <td>0</td>\n",
       "      <td>20230203</td>\n",
       "    </tr>\n",
       "  </tbody>\n",
       "</table>\n",
       "<p>5 rows × 52 columns</p>\n",
       "</div>"
      ],
      "text/plain": [
       "      사용월  호선명 지하철역  04시-05시 승차인원  04시-05시 하차인원  05시-06시 승차인원  05시-06시 하차인원  \\\n",
       "0  202301  1호선  동대문           717            11          9399          1791   \n",
       "1  202301  1호선  동묘앞           176             5          2429           929   \n",
       "2  202301  1호선  서울역           555            27          6560          7430   \n",
       "3  202301  1호선   시청            95             0          2103          3753   \n",
       "4  202301  1호선  신설동           273             6          7568          1962   \n",
       "\n",
       "   06시-07시 승차인원  06시-07시 하차인원  07시-08시 승차인원  ...  23시-24시 하차인원  00시-01시 승차인원  \\\n",
       "0          7814          5063         11183  ...          7667           529   \n",
       "1          3063          4244          5788  ...          3400            80   \n",
       "2         11059         41800         36434  ...         12316          3388   \n",
       "3          3123         19320          6859  ...          3160           353   \n",
       "4          8198          6829         18129  ...          7998           319   \n",
       "\n",
       "   00시-01시 하차인원  01시-02시 승차인원  01시-02시 하차인원  02시-03시 승차인원  02시-03시 하차인원  \\\n",
       "0          2104             5           254             0             0   \n",
       "1          1320             3           330             0             0   \n",
       "2          2777            69           235             0             5   \n",
       "3           703             1            22             0             0   \n",
       "4          1941             3            28             1             0   \n",
       "\n",
       "   03시-04시 승차인원  03시-04시 하차인원      작업일자  \n",
       "0             0             0  20230203  \n",
       "1             0             0  20230203  \n",
       "2             0             0  20230203  \n",
       "3             0             0  20230203  \n",
       "4             0             0  20230203  \n",
       "\n",
       "[5 rows x 52 columns]"
      ]
     },
     "execution_count": 3,
     "metadata": {},
     "output_type": "execute_result"
    }
   ],
   "source": [
    "df.head()"
   ]
  },
  {
   "cell_type": "code",
   "execution_count": 4,
   "id": "b99383ce",
   "metadata": {
    "scrolled": true
   },
   "outputs": [
    {
     "name": "stdout",
     "output_type": "stream",
     "text": [
      "<class 'pandas.core.frame.DataFrame'>\n",
      "RangeIndex: 56951 entries, 0 to 56950\n",
      "Data columns (total 52 columns):\n",
      " #   Column        Non-Null Count  Dtype \n",
      "---  ------        --------------  ----- \n",
      " 0   사용월           56951 non-null  int64 \n",
      " 1   호선명           56951 non-null  object\n",
      " 2   지하철역          56951 non-null  object\n",
      " 3   04시-05시 승차인원  56951 non-null  int64 \n",
      " 4   04시-05시 하차인원  56951 non-null  int64 \n",
      " 5   05시-06시 승차인원  56951 non-null  int64 \n",
      " 6   05시-06시 하차인원  56951 non-null  int64 \n",
      " 7   06시-07시 승차인원  56951 non-null  int64 \n",
      " 8   06시-07시 하차인원  56951 non-null  int64 \n",
      " 9   07시-08시 승차인원  56951 non-null  int64 \n",
      " 10  07시-08시 하차인원  56951 non-null  int64 \n",
      " 11  08시-09시 승차인원  56951 non-null  int64 \n",
      " 12  08시-09시 하차인원  56951 non-null  int64 \n",
      " 13  09시-10시 승차인원  56951 non-null  int64 \n",
      " 14  09시-10시 하차인원  56951 non-null  int64 \n",
      " 15  10시-11시 승차인원  56951 non-null  int64 \n",
      " 16  10시-11시 하차인원  56951 non-null  int64 \n",
      " 17  11시-12시 승차인원  56951 non-null  int64 \n",
      " 18  11시-12시 하차인원  56951 non-null  int64 \n",
      " 19  12시-13시 승차인원  56951 non-null  int64 \n",
      " 20  12시-13시 하차인원  56951 non-null  int64 \n",
      " 21  13시-14시 승차인원  56951 non-null  int64 \n",
      " 22  13시-14시 하차인원  56951 non-null  int64 \n",
      " 23  14시-15시 승차인원  56951 non-null  int64 \n",
      " 24  14시-15시 하차인원  56951 non-null  int64 \n",
      " 25  15시-16시 승차인원  56951 non-null  int64 \n",
      " 26  15시-16시 하차인원  56951 non-null  int64 \n",
      " 27  16시-17시 승차인원  56951 non-null  int64 \n",
      " 28  16시-17시 하차인원  56951 non-null  int64 \n",
      " 29  17시-18시 승차인원  56951 non-null  int64 \n",
      " 30  17시-18시 하차인원  56951 non-null  int64 \n",
      " 31  18시-19시 승차인원  56951 non-null  int64 \n",
      " 32  18시-19시 하차인원  56951 non-null  int64 \n",
      " 33  19시-20시 승차인원  56951 non-null  int64 \n",
      " 34  19시-20시 하차인원  56951 non-null  int64 \n",
      " 35  20시-21시 승차인원  56951 non-null  int64 \n",
      " 36  20시-21시 하차인원  56951 non-null  int64 \n",
      " 37  21시-22시 승차인원  56951 non-null  int64 \n",
      " 38  21시-22시 하차인원  56951 non-null  int64 \n",
      " 39  22시-23시 승차인원  56951 non-null  int64 \n",
      " 40  22시-23시 하차인원  56951 non-null  int64 \n",
      " 41  23시-24시 승차인원  56951 non-null  int64 \n",
      " 42  23시-24시 하차인원  56951 non-null  int64 \n",
      " 43  00시-01시 승차인원  56951 non-null  int64 \n",
      " 44  00시-01시 하차인원  56951 non-null  int64 \n",
      " 45  01시-02시 승차인원  56951 non-null  int64 \n",
      " 46  01시-02시 하차인원  56951 non-null  int64 \n",
      " 47  02시-03시 승차인원  56951 non-null  int64 \n",
      " 48  02시-03시 하차인원  56951 non-null  int64 \n",
      " 49  03시-04시 승차인원  56951 non-null  int64 \n",
      " 50  03시-04시 하차인원  56951 non-null  int64 \n",
      " 51  작업일자          56951 non-null  int64 \n",
      "dtypes: int64(50), object(2)\n",
      "memory usage: 22.6+ MB\n"
     ]
    }
   ],
   "source": [
    "df.info()"
   ]
  },
  {
   "cell_type": "code",
   "execution_count": 5,
   "id": "3423299a",
   "metadata": {},
   "outputs": [
    {
     "data": {
      "text/plain": [
       "array(['1호선', '2호선', '3호선', '4호선', '5호선', '6호선', '7호선', '8호선', '9호선',\n",
       "       '9호선2~3단계', '경강선', '경부선', '경원선', '경의선', '경인선', '경춘선', '공항철도 1호선',\n",
       "       '과천선', '분당선', '수인선', '신림선', '안산선', '우이신설선', '일산선', '장항선', '중앙선',\n",
       "       '9호선2단계'], dtype=object)"
      ]
     },
     "execution_count": 5,
     "metadata": {},
     "output_type": "execute_result"
    }
   ],
   "source": [
    "df.호선명.unique()"
   ]
  },
  {
   "cell_type": "markdown",
   "id": "7c0e2521",
   "metadata": {},
   "source": [
    "### 1호선 전처리"
   ]
  },
  {
   "cell_type": "code",
   "execution_count": 24,
   "id": "28007531",
   "metadata": {},
   "outputs": [
    {
     "data": {
      "text/plain": [
       "array(['동대문', '동묘앞', '서울역', '시청', '신설동', '제기동', '종각', '종로3가', '종로5가',\n",
       "       '청량리(서울시립대입구)', '가산디지털단지', '관악', '광명', '구로', '군포', '금정', '금천구청',\n",
       "       '남영', '노량진', '당정', '대방', '독산', '두정', '명학', '병점', '서동탄', '서정리',\n",
       "       '석수', '성균관대', '성환', '세류', '세마', '송탄', '수원', '신길', '신도림', '안양',\n",
       "       '영등포', '오산', '오산대', '용산', '의왕', '직산', '진위', '천안', '평택', '평택지제',\n",
       "       '화서', '가능', '광운대', '녹양', '녹천', '덕계', '덕정', '도봉', '도봉산', '동두천',\n",
       "       '동두천중앙', '망월사', '방학', '보산', '석계', '소요산', '신이문', '양주', '외대앞', '월계',\n",
       "       '의정부', '지행', '창동', '회룡', '간석', '개봉', '구일', '도원', '도화', '동암', '동인천',\n",
       "       '백운', '부개', '부천', '부평', '소사', '송내', '역곡', '오류동', '온수', '인천', '제물포',\n",
       "       '주안', '중동', '배방', '봉명', '신창', '쌍용(나사렛대)', '아산', '온양온천', '탕정'],\n",
       "      dtype=object)"
      ]
     },
     "execution_count": 24,
     "metadata": {},
     "output_type": "execute_result"
    }
   ],
   "source": [
    "# 1호선 역 이름 확인\n",
    "df[(df['호선명'] == '1호선') | (df['호선명'] == '경원선') | (df['호선명'] == '경부선') | (df['호선명'] == '경인선') | (df['호선명'] == '장항선')].지하철역.unique()"
   ]
  },
  {
   "cell_type": "code",
   "execution_count": 7,
   "id": "7d819f98",
   "metadata": {},
   "outputs": [
    {
     "data": {
      "text/plain": [
       "113"
      ]
     },
     "execution_count": 7,
     "metadata": {},
     "output_type": "execute_result"
    }
   ],
   "source": [
    "# 1호선 역의 개수(99개) 확인\n",
    "df[(df['호선명'] == '1호선') | (df['호선명'] == '경원선') | (df['호선명'] == '경부선') | (df['호선명'] == '경인선') | (df['호선명'] == '장항선')].지하철역.nunique()"
   ]
  },
  {
   "cell_type": "code",
   "execution_count": 8,
   "id": "c5552868",
   "metadata": {},
   "outputs": [],
   "source": [
    "# 다르게 표기된 역 이름 수정\n",
    "df.loc[df['지하철역'] == '쌍용동', '지하철역'] = '쌍용(나사렛대)'\n",
    "df.loc[df['지하철역'] == '청량리(지하)', '지하철역'] = '청량리(서울시립대입구)'\n",
    "df.loc[df['지하철역'] == '동두천 중앙', '지하철역'] = '동두천중앙'\n",
    "df.loc[df['지하철역'] == '신창(순천향대)', '지하철역'] = '신창'\n",
    "df.loc[df['지하철역'] == '온수(성공회대입구)', '지하철역'] = '온수'\n",
    "df.loc[df['지하철역'] == '지제', '지하철역'] = '평택지제'\n",
    "df.loc[df['지하철역'] == '청량리(지상)', '지하철역'] = '청량리'\n",
    "df.loc[df['지하철역'] == '왕십리(성동구청)', '지하철역'] = '왕십리'\n",
    "df.loc[df['지하철역'] == '청량리(지상)', '지하철역'] = '청량리'\n",
    "df.loc[df['지하철역'] == '이촌(국립중앙박물관)', '지하철역'] = '이촌'"
   ]
  },
  {
   "cell_type": "code",
   "execution_count": 22,
   "id": "330f215d",
   "metadata": {},
   "outputs": [],
   "source": [
    "# 잘못된 호선 수정\n",
    "df.loc[(df['지하철역'] == '청량리') & (df['호선명'] == '경원선'), '호선명'] = '중앙선'\n",
    "df.loc[(df['지하철역'] == '이촌') & (df['호선명'] == '경원선'), '호선명'] = '중앙선'\n",
    "df.loc[(df['지하철역'] == '왕십리') & (df['호선명'] == '경원선'), '호선명'] = '중앙선'\n",
    "df.loc[(df['지하철역'] == '옥수') & (df['호선명'] == '경원선'), '호선명'] = '중앙선'\n",
    "df.loc[(df['지하철역'] == '한남') & (df['호선명'] == '경원선'), '호선명'] = '중앙선'\n",
    "df.loc[(df['지하철역'] == '응봉') & (df['호선명'] == '경원선'), '호선명'] = '중앙선'\n",
    "df.loc[(df['지하철역'] == '서빙고') & (df['호선명'] == '경원선'), '호선명'] = '중앙선'"
   ]
  },
  {
   "cell_type": "code",
   "execution_count": 23,
   "id": "c1d498e2",
   "metadata": {},
   "outputs": [
    {
     "data": {
      "text/plain": [
       "98"
      ]
     },
     "execution_count": 23,
     "metadata": {},
     "output_type": "execute_result"
    }
   ],
   "source": [
    "# 회기역이 빠져서 98개\n",
    "df[(df['호선명'] == '1호선') | (df['호선명'] == '경원선') | (df['호선명'] == '경부선') | (df['호선명'] == '경인선') | (df['호선명'] == '장항선')].지하철역.nunique()"
   ]
  },
  {
   "cell_type": "code",
   "execution_count": 28,
   "id": "457d88aa",
   "metadata": {},
   "outputs": [
    {
     "data": {
      "text/plain": [
       "array(['중앙선'], dtype=object)"
      ]
     },
     "execution_count": 28,
     "metadata": {},
     "output_type": "execute_result"
    }
   ],
   "source": [
    "df.loc[(df['지하철역'].str.contains('회기'))].호선명.unique()"
   ]
  },
  {
   "cell_type": "markdown",
   "id": "12bc0dbf",
   "metadata": {},
   "source": [
    "### 6호선 전처리"
   ]
  },
  {
   "cell_type": "code",
   "execution_count": 30,
   "id": "99622cf7",
   "metadata": {},
   "outputs": [
    {
     "data": {
      "text/plain": [
       "array(['고려대(종암)', '공덕', '광흥창(서강)', '구산', '녹사평(용산구청)', '대흥(서강대앞)', '독바위',\n",
       "       '돌곶이', '동묘앞', '디지털미디어시티', '마포구청', '망원', '버티고개', '보문', '봉화산(서울의료원)',\n",
       "       '불광', '삼각지', '상수', '상월곡(한국과학기술연구원)', '새절(신사)', '석계', '신내', '신당',\n",
       "       '안암(고대병원앞)', '약수', '역촌', '연신내', '월곡(동덕여대)', '월드컵경기장(성산)', '응암',\n",
       "       '이태원', '증산(명지대앞)', '창신', '청구', '태릉입구', '한강진', '합정', '화랑대(서울여대입구)',\n",
       "       '효창공원앞', '고려대', '광흥창', '대흥', '상월곡', '새절', '안암', '월곡', '월드컵경기장',\n",
       "       '증산', '화랑대'], dtype=object)"
      ]
     },
     "execution_count": 30,
     "metadata": {},
     "output_type": "execute_result"
    }
   ],
   "source": [
    "# 6호선 역 이름 확인\n",
    "df[(df['호선명'] == '6호선')].지하철역.unique()"
   ]
  },
  {
   "cell_type": "code",
   "execution_count": 42,
   "id": "44eb7eb0",
   "metadata": {},
   "outputs": [
    {
     "data": {
      "text/plain": [
       "39"
      ]
     },
     "execution_count": 42,
     "metadata": {},
     "output_type": "execute_result"
    }
   ],
   "source": [
    "# 6호선 역의 개수(39개) 확인\n",
    "df[(df['호선명'] == '6호선')].지하철역.nunique()"
   ]
  },
  {
   "cell_type": "code",
   "execution_count": 41,
   "id": "89132ec5",
   "metadata": {},
   "outputs": [],
   "source": [
    "df.loc[df['지하철역'] == '고려대(종암)', '지하철역'] = '고려대'\n",
    "df.loc[df['지하철역'] == '광흥창(서강)', '지하철역'] = '광흥창'\n",
    "df.loc[df['지하철역'] == '대흥(서강대앞)', '지하철역'] = '대흥'\n",
    "df.loc[df['지하철역'] == '상월곡(한국과학기술연구원)', '지하철역'] = '상월곡'\n",
    "df.loc[df['지하철역'] == '새절(신사)', '지하철역'] = '새절'\n",
    "df.loc[df['지하철역'] == '안암(고대병원앞)', '지하철역'] = '안암'\n",
    "df.loc[df['지하철역'] == '월곡(동덕여대)', '지하철역'] = '월곡'\n",
    "df.loc[df['지하철역'] == '월드컵경기장(성산)', '지하철역'] = '월드컵경기장'\n",
    "df.loc[df['지하철역'] == '증산(명지대앞)', '지하철역'] = '증산'\n",
    "df.loc[df['지하철역'] == '화랑대(서울여대입구)', '지하철역'] = '화랑대'"
   ]
  },
  {
   "cell_type": "code",
   "execution_count": null,
   "id": "91ede703",
   "metadata": {},
   "outputs": [],
   "source": []
  }
 ],
 "metadata": {
  "kernelspec": {
   "display_name": "Python 3 (ipykernel)",
   "language": "python",
   "name": "python3"
  },
  "language_info": {
   "codemirror_mode": {
    "name": "ipython",
    "version": 3
   },
   "file_extension": ".py",
   "mimetype": "text/x-python",
   "name": "python",
   "nbconvert_exporter": "python",
   "pygments_lexer": "ipython3",
   "version": "3.9.13"
  }
 },
 "nbformat": 4,
 "nbformat_minor": 5
}
