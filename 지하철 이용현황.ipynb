{
 "cells": [
  {
   "cell_type": "markdown",
   "id": "0e16ffd1",
   "metadata": {},
   "source": [
    "# 지하철 월별 시간대별 이용현황"
   ]
  },
  {
   "cell_type": "code",
   "execution_count": 1,
   "id": "31d75310",
   "metadata": {},
   "outputs": [],
   "source": [
    "import pandas as pd\n",
    "\n",
    "\n",
    "# 그래프를 노트북 안에 그리기 위해 설정\n",
    "%matplotlib inline\n",
    "\n",
    "# 필요한 패키지와 라이브러리 가져온다.\n",
    "import matplotlib as mpl\n",
    "import matplotlib.pyplot as plt\n",
    "import matplotlib.font_manager as fm\n",
    "\n",
    "# 그래프에서 마이너스 폰트 깨지는 문제에 대한 대처\n",
    "mpl.rcParams['axes.unicode_minus'] = False\n",
    "\n",
    "# 폰트 지정하기\n",
    "plt.rcParams['font.family'] = 'gulim'"
   ]
  },
  {
   "cell_type": "code",
   "execution_count": 2,
   "id": "30c5a867",
   "metadata": {},
   "outputs": [],
   "source": [
    "# 데이터 로드\n",
    "df = pd.read_csv('./서울시 지하철 호선별 역별 시간대별 승하차 인원 정보.csv', encoding='cp949')"
   ]
  },
  {
   "cell_type": "markdown",
   "id": "d55e5f6f",
   "metadata": {},
   "source": [
    "## 1. 데이터 확인 및 전처리"
   ]
  },
  {
   "cell_type": "code",
   "execution_count": 3,
   "id": "a82e7e6a",
   "metadata": {
    "scrolled": true
   },
   "outputs": [
    {
     "data": {
      "text/html": [
       "<div>\n",
       "<style scoped>\n",
       "    .dataframe tbody tr th:only-of-type {\n",
       "        vertical-align: middle;\n",
       "    }\n",
       "\n",
       "    .dataframe tbody tr th {\n",
       "        vertical-align: top;\n",
       "    }\n",
       "\n",
       "    .dataframe thead th {\n",
       "        text-align: right;\n",
       "    }\n",
       "</style>\n",
       "<table border=\"1\" class=\"dataframe\">\n",
       "  <thead>\n",
       "    <tr style=\"text-align: right;\">\n",
       "      <th></th>\n",
       "      <th>사용월</th>\n",
       "      <th>호선명</th>\n",
       "      <th>지하철역</th>\n",
       "      <th>04시-05시 승차인원</th>\n",
       "      <th>04시-05시 하차인원</th>\n",
       "      <th>05시-06시 승차인원</th>\n",
       "      <th>05시-06시 하차인원</th>\n",
       "      <th>06시-07시 승차인원</th>\n",
       "      <th>06시-07시 하차인원</th>\n",
       "      <th>07시-08시 승차인원</th>\n",
       "      <th>...</th>\n",
       "      <th>23시-24시 하차인원</th>\n",
       "      <th>00시-01시 승차인원</th>\n",
       "      <th>00시-01시 하차인원</th>\n",
       "      <th>01시-02시 승차인원</th>\n",
       "      <th>01시-02시 하차인원</th>\n",
       "      <th>02시-03시 승차인원</th>\n",
       "      <th>02시-03시 하차인원</th>\n",
       "      <th>03시-04시 승차인원</th>\n",
       "      <th>03시-04시 하차인원</th>\n",
       "      <th>작업일자</th>\n",
       "    </tr>\n",
       "  </thead>\n",
       "  <tbody>\n",
       "    <tr>\n",
       "      <th>0</th>\n",
       "      <td>202301</td>\n",
       "      <td>1호선</td>\n",
       "      <td>동대문</td>\n",
       "      <td>717</td>\n",
       "      <td>11</td>\n",
       "      <td>9399</td>\n",
       "      <td>1791</td>\n",
       "      <td>7814</td>\n",
       "      <td>5063</td>\n",
       "      <td>11183</td>\n",
       "      <td>...</td>\n",
       "      <td>7667</td>\n",
       "      <td>529</td>\n",
       "      <td>2104</td>\n",
       "      <td>5</td>\n",
       "      <td>254</td>\n",
       "      <td>0</td>\n",
       "      <td>0</td>\n",
       "      <td>0</td>\n",
       "      <td>0</td>\n",
       "      <td>20230203</td>\n",
       "    </tr>\n",
       "    <tr>\n",
       "      <th>1</th>\n",
       "      <td>202301</td>\n",
       "      <td>1호선</td>\n",
       "      <td>동묘앞</td>\n",
       "      <td>176</td>\n",
       "      <td>5</td>\n",
       "      <td>2429</td>\n",
       "      <td>929</td>\n",
       "      <td>3063</td>\n",
       "      <td>4244</td>\n",
       "      <td>5788</td>\n",
       "      <td>...</td>\n",
       "      <td>3400</td>\n",
       "      <td>80</td>\n",
       "      <td>1320</td>\n",
       "      <td>3</td>\n",
       "      <td>330</td>\n",
       "      <td>0</td>\n",
       "      <td>0</td>\n",
       "      <td>0</td>\n",
       "      <td>0</td>\n",
       "      <td>20230203</td>\n",
       "    </tr>\n",
       "    <tr>\n",
       "      <th>2</th>\n",
       "      <td>202301</td>\n",
       "      <td>1호선</td>\n",
       "      <td>서울역</td>\n",
       "      <td>555</td>\n",
       "      <td>27</td>\n",
       "      <td>6560</td>\n",
       "      <td>7430</td>\n",
       "      <td>11059</td>\n",
       "      <td>41800</td>\n",
       "      <td>36434</td>\n",
       "      <td>...</td>\n",
       "      <td>12316</td>\n",
       "      <td>3388</td>\n",
       "      <td>2777</td>\n",
       "      <td>69</td>\n",
       "      <td>235</td>\n",
       "      <td>0</td>\n",
       "      <td>5</td>\n",
       "      <td>0</td>\n",
       "      <td>0</td>\n",
       "      <td>20230203</td>\n",
       "    </tr>\n",
       "    <tr>\n",
       "      <th>3</th>\n",
       "      <td>202301</td>\n",
       "      <td>1호선</td>\n",
       "      <td>시청</td>\n",
       "      <td>95</td>\n",
       "      <td>0</td>\n",
       "      <td>2103</td>\n",
       "      <td>3753</td>\n",
       "      <td>3123</td>\n",
       "      <td>19320</td>\n",
       "      <td>6859</td>\n",
       "      <td>...</td>\n",
       "      <td>3160</td>\n",
       "      <td>353</td>\n",
       "      <td>703</td>\n",
       "      <td>1</td>\n",
       "      <td>22</td>\n",
       "      <td>0</td>\n",
       "      <td>0</td>\n",
       "      <td>0</td>\n",
       "      <td>0</td>\n",
       "      <td>20230203</td>\n",
       "    </tr>\n",
       "    <tr>\n",
       "      <th>4</th>\n",
       "      <td>202301</td>\n",
       "      <td>1호선</td>\n",
       "      <td>신설동</td>\n",
       "      <td>273</td>\n",
       "      <td>6</td>\n",
       "      <td>7568</td>\n",
       "      <td>1962</td>\n",
       "      <td>8198</td>\n",
       "      <td>6829</td>\n",
       "      <td>18129</td>\n",
       "      <td>...</td>\n",
       "      <td>7998</td>\n",
       "      <td>319</td>\n",
       "      <td>1941</td>\n",
       "      <td>3</td>\n",
       "      <td>28</td>\n",
       "      <td>1</td>\n",
       "      <td>0</td>\n",
       "      <td>0</td>\n",
       "      <td>0</td>\n",
       "      <td>20230203</td>\n",
       "    </tr>\n",
       "  </tbody>\n",
       "</table>\n",
       "<p>5 rows × 52 columns</p>\n",
       "</div>"
      ],
      "text/plain": [
       "      사용월  호선명 지하철역  04시-05시 승차인원  04시-05시 하차인원  05시-06시 승차인원  05시-06시 하차인원  \\\n",
       "0  202301  1호선  동대문           717            11          9399          1791   \n",
       "1  202301  1호선  동묘앞           176             5          2429           929   \n",
       "2  202301  1호선  서울역           555            27          6560          7430   \n",
       "3  202301  1호선   시청            95             0          2103          3753   \n",
       "4  202301  1호선  신설동           273             6          7568          1962   \n",
       "\n",
       "   06시-07시 승차인원  06시-07시 하차인원  07시-08시 승차인원  ...  23시-24시 하차인원  00시-01시 승차인원  \\\n",
       "0          7814          5063         11183  ...          7667           529   \n",
       "1          3063          4244          5788  ...          3400            80   \n",
       "2         11059         41800         36434  ...         12316          3388   \n",
       "3          3123         19320          6859  ...          3160           353   \n",
       "4          8198          6829         18129  ...          7998           319   \n",
       "\n",
       "   00시-01시 하차인원  01시-02시 승차인원  01시-02시 하차인원  02시-03시 승차인원  02시-03시 하차인원  \\\n",
       "0          2104             5           254             0             0   \n",
       "1          1320             3           330             0             0   \n",
       "2          2777            69           235             0             5   \n",
       "3           703             1            22             0             0   \n",
       "4          1941             3            28             1             0   \n",
       "\n",
       "   03시-04시 승차인원  03시-04시 하차인원      작업일자  \n",
       "0             0             0  20230203  \n",
       "1             0             0  20230203  \n",
       "2             0             0  20230203  \n",
       "3             0             0  20230203  \n",
       "4             0             0  20230203  \n",
       "\n",
       "[5 rows x 52 columns]"
      ]
     },
     "execution_count": 3,
     "metadata": {},
     "output_type": "execute_result"
    }
   ],
   "source": [
    "df.head()"
   ]
  },
  {
   "cell_type": "code",
   "execution_count": 4,
   "id": "b99383ce",
   "metadata": {
    "scrolled": true
   },
   "outputs": [
    {
     "name": "stdout",
     "output_type": "stream",
     "text": [
      "<class 'pandas.core.frame.DataFrame'>\n",
      "RangeIndex: 56951 entries, 0 to 56950\n",
      "Data columns (total 52 columns):\n",
      " #   Column        Non-Null Count  Dtype \n",
      "---  ------        --------------  ----- \n",
      " 0   사용월           56951 non-null  int64 \n",
      " 1   호선명           56951 non-null  object\n",
      " 2   지하철역          56951 non-null  object\n",
      " 3   04시-05시 승차인원  56951 non-null  int64 \n",
      " 4   04시-05시 하차인원  56951 non-null  int64 \n",
      " 5   05시-06시 승차인원  56951 non-null  int64 \n",
      " 6   05시-06시 하차인원  56951 non-null  int64 \n",
      " 7   06시-07시 승차인원  56951 non-null  int64 \n",
      " 8   06시-07시 하차인원  56951 non-null  int64 \n",
      " 9   07시-08시 승차인원  56951 non-null  int64 \n",
      " 10  07시-08시 하차인원  56951 non-null  int64 \n",
      " 11  08시-09시 승차인원  56951 non-null  int64 \n",
      " 12  08시-09시 하차인원  56951 non-null  int64 \n",
      " 13  09시-10시 승차인원  56951 non-null  int64 \n",
      " 14  09시-10시 하차인원  56951 non-null  int64 \n",
      " 15  10시-11시 승차인원  56951 non-null  int64 \n",
      " 16  10시-11시 하차인원  56951 non-null  int64 \n",
      " 17  11시-12시 승차인원  56951 non-null  int64 \n",
      " 18  11시-12시 하차인원  56951 non-null  int64 \n",
      " 19  12시-13시 승차인원  56951 non-null  int64 \n",
      " 20  12시-13시 하차인원  56951 non-null  int64 \n",
      " 21  13시-14시 승차인원  56951 non-null  int64 \n",
      " 22  13시-14시 하차인원  56951 non-null  int64 \n",
      " 23  14시-15시 승차인원  56951 non-null  int64 \n",
      " 24  14시-15시 하차인원  56951 non-null  int64 \n",
      " 25  15시-16시 승차인원  56951 non-null  int64 \n",
      " 26  15시-16시 하차인원  56951 non-null  int64 \n",
      " 27  16시-17시 승차인원  56951 non-null  int64 \n",
      " 28  16시-17시 하차인원  56951 non-null  int64 \n",
      " 29  17시-18시 승차인원  56951 non-null  int64 \n",
      " 30  17시-18시 하차인원  56951 non-null  int64 \n",
      " 31  18시-19시 승차인원  56951 non-null  int64 \n",
      " 32  18시-19시 하차인원  56951 non-null  int64 \n",
      " 33  19시-20시 승차인원  56951 non-null  int64 \n",
      " 34  19시-20시 하차인원  56951 non-null  int64 \n",
      " 35  20시-21시 승차인원  56951 non-null  int64 \n",
      " 36  20시-21시 하차인원  56951 non-null  int64 \n",
      " 37  21시-22시 승차인원  56951 non-null  int64 \n",
      " 38  21시-22시 하차인원  56951 non-null  int64 \n",
      " 39  22시-23시 승차인원  56951 non-null  int64 \n",
      " 40  22시-23시 하차인원  56951 non-null  int64 \n",
      " 41  23시-24시 승차인원  56951 non-null  int64 \n",
      " 42  23시-24시 하차인원  56951 non-null  int64 \n",
      " 43  00시-01시 승차인원  56951 non-null  int64 \n",
      " 44  00시-01시 하차인원  56951 non-null  int64 \n",
      " 45  01시-02시 승차인원  56951 non-null  int64 \n",
      " 46  01시-02시 하차인원  56951 non-null  int64 \n",
      " 47  02시-03시 승차인원  56951 non-null  int64 \n",
      " 48  02시-03시 하차인원  56951 non-null  int64 \n",
      " 49  03시-04시 승차인원  56951 non-null  int64 \n",
      " 50  03시-04시 하차인원  56951 non-null  int64 \n",
      " 51  작업일자          56951 non-null  int64 \n",
      "dtypes: int64(50), object(2)\n",
      "memory usage: 22.6+ MB\n"
     ]
    }
   ],
   "source": [
    "df.info()"
   ]
  },
  {
   "cell_type": "code",
   "execution_count": 5,
   "id": "eb277406",
   "metadata": {},
   "outputs": [],
   "source": [
    "# 사용월의 타입변경(int -> str)\n",
    "df['사용월'] = df['사용월'].astype('str')\n",
    "\n",
    "# 17~22년을 제외한 데이터 삭제\n",
    "df.drop(df[(df['사용월'] < '201701') | (df['사용월'] >= '202201')].index, axis=0, inplace=True)"
   ]
  },
  {
   "cell_type": "code",
   "execution_count": 6,
   "id": "29333efa",
   "metadata": {},
   "outputs": [],
   "source": [
    "# 1시~4시 사이의 데이터를 '1시 이후 승차', '1시 이후 하차'로 변경\n",
    "df['1시 이후 승차'] = df[['01시-02시 승차인원', '02시-03시 승차인원', '03시-04시 승차인원']].sum(axis=1)\n",
    "df['1시 이후 하차'] = df[['01시-02시 하차인원', '02시-03시 하차인원', '03시-04시 하차인원']].sum(axis=1)"
   ]
  },
  {
   "cell_type": "code",
   "execution_count": 7,
   "id": "08d29920",
   "metadata": {},
   "outputs": [],
   "source": [
    "# 필요없는 column 삭제\n",
    "df.drop(['01시-02시 승차인원', '02시-03시 승차인원', '03시-04시 승차인원', \n",
    "         '01시-02시 하차인원', '02시-03시 하차인원', '03시-04시 하차인원', '작업일자'], axis=1, inplace=True)"
   ]
  },
  {
   "cell_type": "code",
   "execution_count": 8,
   "id": "cbd300a0",
   "metadata": {},
   "outputs": [
    {
     "data": {
      "text/html": [
       "<div>\n",
       "<style scoped>\n",
       "    .dataframe tbody tr th:only-of-type {\n",
       "        vertical-align: middle;\n",
       "    }\n",
       "\n",
       "    .dataframe tbody tr th {\n",
       "        vertical-align: top;\n",
       "    }\n",
       "\n",
       "    .dataframe thead th {\n",
       "        text-align: right;\n",
       "    }\n",
       "</style>\n",
       "<table border=\"1\" class=\"dataframe\">\n",
       "  <thead>\n",
       "    <tr style=\"text-align: right;\">\n",
       "      <th></th>\n",
       "      <th>사용월</th>\n",
       "      <th>호선명</th>\n",
       "      <th>지하철역</th>\n",
       "      <th>04시-05시 승차인원</th>\n",
       "      <th>04시-05시 하차인원</th>\n",
       "      <th>05시-06시 승차인원</th>\n",
       "      <th>05시-06시 하차인원</th>\n",
       "      <th>06시-07시 승차인원</th>\n",
       "      <th>06시-07시 하차인원</th>\n",
       "      <th>07시-08시 승차인원</th>\n",
       "      <th>...</th>\n",
       "      <th>21시-22시 승차인원</th>\n",
       "      <th>21시-22시 하차인원</th>\n",
       "      <th>22시-23시 승차인원</th>\n",
       "      <th>22시-23시 하차인원</th>\n",
       "      <th>23시-24시 승차인원</th>\n",
       "      <th>23시-24시 하차인원</th>\n",
       "      <th>00시-01시 승차인원</th>\n",
       "      <th>00시-01시 하차인원</th>\n",
       "      <th>1시 이후 승차</th>\n",
       "      <th>1시 이후 하차</th>\n",
       "    </tr>\n",
       "  </thead>\n",
       "  <tbody>\n",
       "    <tr>\n",
       "      <th>7965</th>\n",
       "      <td>202112</td>\n",
       "      <td>1호선</td>\n",
       "      <td>동대문</td>\n",
       "      <td>803</td>\n",
       "      <td>15</td>\n",
       "      <td>12276</td>\n",
       "      <td>1913</td>\n",
       "      <td>8716</td>\n",
       "      <td>5492</td>\n",
       "      <td>13464</td>\n",
       "      <td>...</td>\n",
       "      <td>11616</td>\n",
       "      <td>11104</td>\n",
       "      <td>7600</td>\n",
       "      <td>8620</td>\n",
       "      <td>2617</td>\n",
       "      <td>7679</td>\n",
       "      <td>24</td>\n",
       "      <td>1355</td>\n",
       "      <td>0</td>\n",
       "      <td>0</td>\n",
       "    </tr>\n",
       "    <tr>\n",
       "      <th>7966</th>\n",
       "      <td>202112</td>\n",
       "      <td>1호선</td>\n",
       "      <td>동묘앞</td>\n",
       "      <td>116</td>\n",
       "      <td>0</td>\n",
       "      <td>2423</td>\n",
       "      <td>756</td>\n",
       "      <td>3270</td>\n",
       "      <td>3915</td>\n",
       "      <td>5412</td>\n",
       "      <td>...</td>\n",
       "      <td>4328</td>\n",
       "      <td>4922</td>\n",
       "      <td>2608</td>\n",
       "      <td>3963</td>\n",
       "      <td>980</td>\n",
       "      <td>2491</td>\n",
       "      <td>10</td>\n",
       "      <td>1437</td>\n",
       "      <td>1</td>\n",
       "      <td>2</td>\n",
       "    </tr>\n",
       "    <tr>\n",
       "      <th>7967</th>\n",
       "      <td>202112</td>\n",
       "      <td>1호선</td>\n",
       "      <td>서울역</td>\n",
       "      <td>769</td>\n",
       "      <td>16</td>\n",
       "      <td>8460</td>\n",
       "      <td>6094</td>\n",
       "      <td>11185</td>\n",
       "      <td>35735</td>\n",
       "      <td>34375</td>\n",
       "      <td>...</td>\n",
       "      <td>70343</td>\n",
       "      <td>32014</td>\n",
       "      <td>38334</td>\n",
       "      <td>18709</td>\n",
       "      <td>12519</td>\n",
       "      <td>8703</td>\n",
       "      <td>61</td>\n",
       "      <td>841</td>\n",
       "      <td>0</td>\n",
       "      <td>2</td>\n",
       "    </tr>\n",
       "    <tr>\n",
       "      <th>7968</th>\n",
       "      <td>202112</td>\n",
       "      <td>1호선</td>\n",
       "      <td>시청</td>\n",
       "      <td>37</td>\n",
       "      <td>2</td>\n",
       "      <td>1902</td>\n",
       "      <td>4537</td>\n",
       "      <td>2827</td>\n",
       "      <td>19095</td>\n",
       "      <td>6322</td>\n",
       "      <td>...</td>\n",
       "      <td>45585</td>\n",
       "      <td>5417</td>\n",
       "      <td>21428</td>\n",
       "      <td>2794</td>\n",
       "      <td>5284</td>\n",
       "      <td>1713</td>\n",
       "      <td>28</td>\n",
       "      <td>153</td>\n",
       "      <td>0</td>\n",
       "      <td>1</td>\n",
       "    </tr>\n",
       "    <tr>\n",
       "      <th>7969</th>\n",
       "      <td>202112</td>\n",
       "      <td>1호선</td>\n",
       "      <td>신설동</td>\n",
       "      <td>383</td>\n",
       "      <td>6</td>\n",
       "      <td>7270</td>\n",
       "      <td>2738</td>\n",
       "      <td>7731</td>\n",
       "      <td>10318</td>\n",
       "      <td>15891</td>\n",
       "      <td>...</td>\n",
       "      <td>11994</td>\n",
       "      <td>12367</td>\n",
       "      <td>6876</td>\n",
       "      <td>8680</td>\n",
       "      <td>2280</td>\n",
       "      <td>5913</td>\n",
       "      <td>37</td>\n",
       "      <td>863</td>\n",
       "      <td>0</td>\n",
       "      <td>0</td>\n",
       "    </tr>\n",
       "  </tbody>\n",
       "</table>\n",
       "<p>5 rows × 47 columns</p>\n",
       "</div>"
      ],
      "text/plain": [
       "         사용월  호선명 지하철역  04시-05시 승차인원  04시-05시 하차인원  05시-06시 승차인원  \\\n",
       "7965  202112  1호선  동대문           803            15         12276   \n",
       "7966  202112  1호선  동묘앞           116             0          2423   \n",
       "7967  202112  1호선  서울역           769            16          8460   \n",
       "7968  202112  1호선   시청            37             2          1902   \n",
       "7969  202112  1호선  신설동           383             6          7270   \n",
       "\n",
       "      05시-06시 하차인원  06시-07시 승차인원  06시-07시 하차인원  07시-08시 승차인원  ...  \\\n",
       "7965          1913          8716          5492         13464  ...   \n",
       "7966           756          3270          3915          5412  ...   \n",
       "7967          6094         11185         35735         34375  ...   \n",
       "7968          4537          2827         19095          6322  ...   \n",
       "7969          2738          7731         10318         15891  ...   \n",
       "\n",
       "      21시-22시 승차인원  21시-22시 하차인원  22시-23시 승차인원  22시-23시 하차인원  23시-24시 승차인원  \\\n",
       "7965         11616         11104          7600          8620          2617   \n",
       "7966          4328          4922          2608          3963           980   \n",
       "7967         70343         32014         38334         18709         12519   \n",
       "7968         45585          5417         21428          2794          5284   \n",
       "7969         11994         12367          6876          8680          2280   \n",
       "\n",
       "      23시-24시 하차인원  00시-01시 승차인원  00시-01시 하차인원  1시 이후 승차  1시 이후 하차  \n",
       "7965          7679            24          1355         0         0  \n",
       "7966          2491            10          1437         1         2  \n",
       "7967          8703            61           841         0         2  \n",
       "7968          1713            28           153         0         1  \n",
       "7969          5913            37           863         0         0  \n",
       "\n",
       "[5 rows x 47 columns]"
      ]
     },
     "execution_count": 8,
     "metadata": {},
     "output_type": "execute_result"
    }
   ],
   "source": [
    "df.head()"
   ]
  },
  {
   "cell_type": "code",
   "execution_count": 9,
   "id": "3423299a",
   "metadata": {},
   "outputs": [
    {
     "data": {
      "text/plain": [
       "array(['1호선', '2호선', '3호선', '4호선', '5호선', '6호선', '7호선', '8호선', '9호선',\n",
       "       '9호선2~3단계', '경강선', '경부선', '경원선', '경의선', '경인선', '경춘선', '공항철도 1호선',\n",
       "       '과천선', '분당선', '수인선', '안산선', '우이신설선', '일산선', '장항선', '중앙선', '9호선2단계'],\n",
       "      dtype=object)"
      ]
     },
     "execution_count": 9,
     "metadata": {},
     "output_type": "execute_result"
    }
   ],
   "source": [
    "df.호선명.unique()"
   ]
  },
  {
   "cell_type": "markdown",
   "id": "f00c20da",
   "metadata": {},
   "source": [
    "### 1호선 전처리"
   ]
  },
  {
   "cell_type": "code",
   "execution_count": 10,
   "id": "28007531",
   "metadata": {},
   "outputs": [
    {
     "data": {
      "text/plain": [
       "array(['동대문', '동묘앞', '서울역', '시청', '신설동', '제기동', '종각', '종로3가', '종로5가',\n",
       "       '청량리(서울시립대입구)', '가산디지털단지', '관악', '광명', '구로', '군포', '금정', '금천구청',\n",
       "       '남영', '노량진', '당정', '대방', '독산', '두정', '명학', '병점', '서동탄', '서정리',\n",
       "       '석수', '성균관대', '성환', '세류', '세마', '송탄', '수원', '신길', '신도림', '안양',\n",
       "       '영등포', '오산', '오산대', '용산', '의왕', '직산', '진위', '천안', '평택', '평택지제',\n",
       "       '화서', '가능', '광운대', '녹양', '녹천', '덕계', '덕정', '도봉', '도봉산', '동두천',\n",
       "       '동두천중앙', '망월사', '방학', '보산', '서빙고', '석계', '소요산', '신이문', '양주', '옥수',\n",
       "       '왕십리(성동구청)', '외대앞', '월계', '응봉', '의정부', '이촌(국립중앙박물관)', '지행', '창동',\n",
       "       '한남', '회룡', '간석', '개봉', '구일', '도원', '도화', '동암', '동인천', '백운', '부개',\n",
       "       '부천', '부평', '소사', '송내', '역곡', '오류동', '온수(성공회대입구)', '인천', '제물포',\n",
       "       '주안', '중동', '배방', '봉명', '신창(순천향대)', '쌍용(나사렛대)', '아산', '온양온천', '탕정',\n",
       "       '지제'], dtype=object)"
      ]
     },
     "execution_count": 10,
     "metadata": {},
     "output_type": "execute_result"
    }
   ],
   "source": [
    "# 1호선 역 이름 확인\n",
    "df[(df['호선명'] == '1호선') | (df['호선명'] == '경원선') | (df['호선명'] == '경부선') | (df['호선명'] == '경인선') | (df['호선명'] == '장항선')].지하철역.unique()"
   ]
  },
  {
   "cell_type": "code",
   "execution_count": 11,
   "id": "7d819f98",
   "metadata": {},
   "outputs": [
    {
     "data": {
      "text/plain": [
       "105"
      ]
     },
     "execution_count": 11,
     "metadata": {},
     "output_type": "execute_result"
    }
   ],
   "source": [
    "# 1호선 역의 개수 확인\n",
    "df[(df['호선명'] == '1호선') | (df['호선명'] == '경원선') | (df['호선명'] == '경부선') | (df['호선명'] == '경인선') | (df['호선명'] == '장항선')].지하철역.nunique()"
   ]
  },
  {
   "cell_type": "code",
   "execution_count": 12,
   "id": "c5552868",
   "metadata": {},
   "outputs": [],
   "source": [
    "# 다르게 표기된 역 이름 수정(지제 -> 평택지제)\n",
    "df.replace('지제', '평택지제', inplace=True)"
   ]
  },
  {
   "cell_type": "code",
   "execution_count": 13,
   "id": "5c3bfb2c",
   "metadata": {},
   "outputs": [],
   "source": [
    "# 잘못된 호선 수정\n",
    "df.loc[(df['지하철역'] == '청량리(서울시립대입구)') & (df['호선명'] == '경원선'), '호선명'] = '중앙선'\n",
    "df.loc[(df['지하철역'] == '이촌(국립중앙박물관)') & (df['호선명'] == '경원선'), '호선명'] = '중앙선'\n",
    "df.loc[(df['지하철역'] == '왕십리(성동구청)') & (df['호선명'] == '경원선'), '호선명'] = '중앙선'\n",
    "df.loc[(df['지하철역'] == '옥수') & (df['호선명'] == '경원선'), '호선명'] = '중앙선'\n",
    "df.loc[(df['지하철역'] == '한남') & (df['호선명'] == '경원선'), '호선명'] = '중앙선'\n",
    "df.loc[(df['지하철역'] == '응봉') & (df['호선명'] == '경원선'), '호선명'] = '중앙선'\n",
    "df.loc[(df['지하철역'] == '서빙고') & (df['호선명'] == '경원선'), '호선명'] = '중앙선'"
   ]
  },
  {
   "cell_type": "code",
   "execution_count": 14,
   "id": "6ef28962",
   "metadata": {},
   "outputs": [
    {
     "name": "stdout",
     "output_type": "stream",
     "text": [
      "60\n",
      "60\n",
      "60\n",
      "60\n",
      "60\n",
      "60\n",
      "60\n",
      "60\n"
     ]
    }
   ],
   "source": [
    "# 중복일이 있는지 확인\n",
    "print(df[(df['지하철역'].str.contains('지제'))].사용월.count())\n",
    "print(df[(df['지하철역'].str.contains('청량리')) & (df['호선명'] == '중앙선')].사용월.count())\n",
    "print(df[(df['지하철역'].str.contains('이촌')) & (df['호선명'] == '중앙선')].사용월.count())\n",
    "print(df[(df['지하철역'].str.contains('왕십리')) & (df['호선명'] == '중앙선')].사용월.count())\n",
    "print(df[(df['지하철역'].str.contains('옥수')) & (df['호선명'] == '중앙선')].사용월.count())\n",
    "print(df[(df['지하철역'].str.contains('한남')) & (df['호선명'] == '중앙선')].사용월.count())\n",
    "print(df[(df['지하철역'].str.contains('응봉')) & (df['호선명'] == '중앙선')].사용월.count())\n",
    "print(df[(df['지하철역'].str.contains('서빙고')) & (df['호선명'] == '중앙선')].사용월.count())"
   ]
  },
  {
   "cell_type": "code",
   "execution_count": 15,
   "id": "c1d498e2",
   "metadata": {},
   "outputs": [
    {
     "data": {
      "text/plain": [
       "98"
      ]
     },
     "execution_count": 15,
     "metadata": {},
     "output_type": "execute_result"
    }
   ],
   "source": [
    "# 수정된 역의 개수 확인\n",
    "df[(df['호선명'] == '1호선') | (df['호선명'] == '경원선') | (df['호선명'] == '경부선') | (df['호선명'] == '경인선') | (df['호선명'] == '장항선')].지하철역.nunique()"
   ]
  },
  {
   "cell_type": "code",
   "execution_count": 16,
   "id": "223500e4",
   "metadata": {},
   "outputs": [
    {
     "data": {
      "text/plain": [
       "array(['중앙선'], dtype=object)"
      ]
     },
     "execution_count": 16,
     "metadata": {},
     "output_type": "execute_result"
    }
   ],
   "source": [
    "# 회기역이 중앙선으로 빠짐\n",
    "df.loc[(df['지하철역'].str.contains('회기'))].호선명.unique()"
   ]
  },
  {
   "cell_type": "code",
   "execution_count": 17,
   "id": "e1305c2d",
   "metadata": {},
   "outputs": [],
   "source": [
    "# '경원선', '경부선', '경인선', '장항선' -> 1호선\n",
    "df.replace(['경원선', '경부선', '경인선', '장항선'], '1호선', inplace=True)"
   ]
  },
  {
   "cell_type": "markdown",
   "id": "0a8aafc9",
   "metadata": {},
   "source": [
    "### 2호선 전처리"
   ]
  },
  {
   "cell_type": "code",
   "execution_count": 18,
   "id": "98084271",
   "metadata": {},
   "outputs": [
    {
     "data": {
      "text/plain": [
       "array(['강남', '강변(동서울터미널)', '건대입구', '교대(법원.검찰청)', '구로디지털단지', '구의(광진구청)',\n",
       "       '낙성대(강감찬)', '당산', '대림(구로구청)', '도림천', '동대문역사문화공원(DDP)', '뚝섬', '문래',\n",
       "       '방배', '봉천', '사당', '삼성(무역센터)', '상왕십리', '서울대입구(관악구청)', '서초', '선릉',\n",
       "       '성수', '시청', '신답', '신당', '신대방', '신도림', '신림', '신설동', '신정네거리', '신촌',\n",
       "       '아현', '양천구청', '역삼', '영등포구청', '왕십리(성동구청)', '용답', '용두(동대문구청)',\n",
       "       '을지로3가', '을지로4가', '을지로입구', '이대', '잠실(송파구청)', '잠실나루', '잠실새내',\n",
       "       '종합운동장', '충정로(경기대입구)', '한양대', '합정', '홍대입구', '낙성대', '동대문역사문화공원'],\n",
       "      dtype=object)"
      ]
     },
     "execution_count": 18,
     "metadata": {},
     "output_type": "execute_result"
    }
   ],
   "source": [
    "# 2호선 역 이름 확인\n",
    "df[(df['호선명'] == '2호선')].지하철역.unique()"
   ]
  },
  {
   "cell_type": "code",
   "execution_count": 19,
   "id": "136f984d",
   "metadata": {},
   "outputs": [
    {
     "data": {
      "text/plain": [
       "52"
      ]
     },
     "execution_count": 19,
     "metadata": {},
     "output_type": "execute_result"
    }
   ],
   "source": [
    "# 2호선 역의 개수 확인\n",
    "df[(df['호선명'] == '2호선')].지하철역.nunique()"
   ]
  },
  {
   "cell_type": "code",
   "execution_count": 20,
   "id": "9ef380ce",
   "metadata": {},
   "outputs": [],
   "source": [
    "# 다르게 표기된 역 이름 수정\n",
    "df.replace('낙성대(강감찬)', '낙성대', inplace=True)\n",
    "df.replace('동대문역사문화공원(DDP)', '동대문역사문화공원', inplace=True)"
   ]
  },
  {
   "cell_type": "code",
   "execution_count": 21,
   "id": "e79d6c86",
   "metadata": {},
   "outputs": [
    {
     "name": "stdout",
     "output_type": "stream",
     "text": [
      "60\n",
      "60\n"
     ]
    }
   ],
   "source": [
    "# 중복일이 있는지 확인\n",
    "print(df[(df['지하철역'].str.contains('낙성대')) & (df['호선명'] == '2호선')].사용월.count())\n",
    "print(df[(df['지하철역'].str.contains('동대문역사')) & (df['호선명'] == '2호선')].사용월.count())"
   ]
  },
  {
   "cell_type": "code",
   "execution_count": 22,
   "id": "e8ef8223",
   "metadata": {},
   "outputs": [
    {
     "data": {
      "text/plain": [
       "50"
      ]
     },
     "execution_count": 22,
     "metadata": {},
     "output_type": "execute_result"
    }
   ],
   "source": [
    "# 수정된 역의 개수 확인\n",
    "df[(df['호선명'] == '2호선')].지하철역.nunique()"
   ]
  },
  {
   "cell_type": "markdown",
   "id": "56f3f1f0",
   "metadata": {},
   "source": [
    "### 3호선 전처리"
   ]
  },
  {
   "cell_type": "code",
   "execution_count": 23,
   "id": "9fe9758e",
   "metadata": {},
   "outputs": [
    {
     "data": {
      "text/plain": [
       "array(['가락시장', '경복궁(정부서울청사)', '경찰병원', '고속터미널', '교대(법원.검찰청)', '구파발', '금호',\n",
       "       '남부터미널(예술의전당)', '녹번', '대청', '대치', '도곡', '독립문', '동대입구', '매봉', '무악재',\n",
       "       '불광', '수서', '신사', '안국', '압구정', '약수', '양재(서초구청)', '연신내', '오금', '옥수',\n",
       "       '을지로3가', '일원', '잠원', '종로3가', '지축', '충무로', '학여울', '홍제', '대곡', '대화',\n",
       "       '마두', '백석', '삼송', '원당', '원흥', '정발산', '주엽', '화정'], dtype=object)"
      ]
     },
     "execution_count": 23,
     "metadata": {},
     "output_type": "execute_result"
    }
   ],
   "source": [
    "# 3호선 역 이름 확인\n",
    "df[(df['호선명'] == '3호선') | (df['호선명'] == '일산선')].지하철역.unique()"
   ]
  },
  {
   "cell_type": "code",
   "execution_count": 24,
   "id": "26cb1683",
   "metadata": {},
   "outputs": [
    {
     "data": {
      "text/plain": [
       "44"
      ]
     },
     "execution_count": 24,
     "metadata": {},
     "output_type": "execute_result"
    }
   ],
   "source": [
    "# 3호선 역의 개수 확인\n",
    "df[(df['호선명'] == '3호선') | (df['호선명'] == '일산선')].지하철역.nunique()"
   ]
  },
  {
   "cell_type": "code",
   "execution_count": 25,
   "id": "434680f8",
   "metadata": {},
   "outputs": [],
   "source": [
    "# '일산선' -> 3호선\n",
    "df.replace('일산선', '3호선', inplace=True)"
   ]
  },
  {
   "cell_type": "markdown",
   "id": "e23b1f33",
   "metadata": {},
   "source": [
    "### 4호선 전처리"
   ]
  },
  {
   "cell_type": "code",
   "execution_count": 26,
   "id": "a4bcc21f",
   "metadata": {},
   "outputs": [
    {
     "data": {
      "text/plain": [
       "array(['길음', '남태령', '노원', '당고개', '동대문', '동대문역사문화공원', '동작(현충원)', '명동',\n",
       "       '미아(서울사이버대학)', '미아사거리', '사당', '삼각지', '상계', '서울역', '성신여대입구(돈암)',\n",
       "       '수유(강북구청)', '숙대입구(갈월)', '신용산', '쌍문', '이촌(국립중앙박물관)', '창동',\n",
       "       '총신대입구(이수)', '충무로', '한성대입구(삼선교)', '혜화', '회현(남대문시장)', '경마공원', '과천',\n",
       "       '대공원', '범계', '선바위', '인덕원', '정부과천청사', '평촌', '고잔', '대야미', '반월', '산본',\n",
       "       '상록수', '수리산', '신길온천', '안산', '오이도', '정왕', '중앙', '초지', '한대앞'],\n",
       "      dtype=object)"
      ]
     },
     "execution_count": 26,
     "metadata": {},
     "output_type": "execute_result"
    }
   ],
   "source": [
    "# 4호선 역 이름 확인\n",
    "df[(df['호선명'] == '4호선') | (df['호선명'] == '안산선') | (df['호선명'] == '과천선')].지하철역.unique()"
   ]
  },
  {
   "cell_type": "code",
   "execution_count": 27,
   "id": "b3138186",
   "metadata": {},
   "outputs": [
    {
     "data": {
      "text/plain": [
       "47"
      ]
     },
     "execution_count": 27,
     "metadata": {},
     "output_type": "execute_result"
    }
   ],
   "source": [
    "# 4호선 역의 개수 확인\n",
    "df[(df['호선명'] == '4호선') | (df['호선명'] == '안산선') | (df['호선명'] == '과천선')].지하철역.nunique()"
   ]
  },
  {
   "cell_type": "code",
   "execution_count": 28,
   "id": "fe733395",
   "metadata": {},
   "outputs": [],
   "source": [
    "# 다르게 표기된 역 이름 수정\n",
    "df.replace('미아(서울사이버대학)', '미아', inplace=True)\n",
    "df.replace('성신여대입구(돈암)', '성신여대입구', inplace=True)"
   ]
  },
  {
   "cell_type": "code",
   "execution_count": 29,
   "id": "7f760091",
   "metadata": {},
   "outputs": [
    {
     "name": "stdout",
     "output_type": "stream",
     "text": [
      "120\n",
      "60\n"
     ]
    }
   ],
   "source": [
    "# 중복일이 있는지 확인\n",
    "print(df[(df['지하철역'].str.contains('미아')) & (df['호선명'] == '4호선')].사용월.count()) # 미아사거리도 포함\n",
    "print(df[(df['지하철역'].str.contains('성신여대')) & (df['호선명'] == '4호선')].사용월.count())"
   ]
  },
  {
   "cell_type": "code",
   "execution_count": 30,
   "id": "44fa260b",
   "metadata": {},
   "outputs": [
    {
     "data": {
      "text/plain": [
       "47"
      ]
     },
     "execution_count": 30,
     "metadata": {},
     "output_type": "execute_result"
    }
   ],
   "source": [
    "# 수정된 역의 개수 확인\n",
    "df[(df['호선명'] == '4호선') | (df['호선명'] == '안산선') | (df['호선명'] == '과천선')].지하철역.nunique()"
   ]
  },
  {
   "cell_type": "code",
   "execution_count": 31,
   "id": "152f5372",
   "metadata": {},
   "outputs": [
    {
     "data": {
      "text/plain": [
       "array(['1호선'], dtype=object)"
      ]
     },
     "execution_count": 31,
     "metadata": {},
     "output_type": "execute_result"
    }
   ],
   "source": [
    "# 금정역이 1호선으로 빠짐\n",
    "df.loc[(df['지하철역'].str.contains('금정'))].호선명.unique()"
   ]
  },
  {
   "cell_type": "code",
   "execution_count": 32,
   "id": "be8533d9",
   "metadata": {},
   "outputs": [],
   "source": [
    "# '안산선','과천선' -> 4호선\n",
    "df.replace(['안산선','과천선'], '4호선', inplace=True)"
   ]
  },
  {
   "cell_type": "markdown",
   "id": "59b2e1cd",
   "metadata": {},
   "source": [
    "### 5호선 전처리"
   ]
  },
  {
   "cell_type": "code",
   "execution_count": 33,
   "id": "e6a81c25",
   "metadata": {},
   "outputs": [
    {
     "data": {
      "text/plain": [
       "array(['강동', '강일', '개롱', '개화산', '거여', '고덕', '공덕', '광나루(장신대)',\n",
       "       '광화문(세종문화회관)', '군자(능동)', '굽은다리(강동구민회관앞)', '길동', '김포공항', '까치산',\n",
       "       '답십리', '동대문역사문화공원', '둔촌동', '마곡', '마장', '마천', '마포', '명일', '목동',\n",
       "       '미사', '발산', '방이', '방화', '상일동', '서대문', '송정', '신금호', '신길', '신정(은행정)',\n",
       "       '아차산(어린이대공원후문)', '애오개', '양평', '여의나루', '여의도', '영등포구청', '영등포시장',\n",
       "       '오금', '오목교(목동운동장앞)', '올림픽공원(한국체대)', '왕십리(성동구청)', '우장산', '을지로4가',\n",
       "       '장한평', '종로3가', '천호(풍납토성)', '청구', '충정로(경기대입구)', '하남검단산',\n",
       "       '하남시청(덕풍?신장)', '하남풍산', '행당', '화곡'], dtype=object)"
      ]
     },
     "execution_count": 33,
     "metadata": {},
     "output_type": "execute_result"
    }
   ],
   "source": [
    "# 5호선 역 이름 확인\n",
    "df[(df['호선명'] == '5호선') | (df['호선명'] == '하남선')].지하철역.unique()"
   ]
  },
  {
   "cell_type": "code",
   "execution_count": 34,
   "id": "b34e2a0a",
   "metadata": {},
   "outputs": [
    {
     "data": {
      "text/plain": [
       "56"
      ]
     },
     "execution_count": 34,
     "metadata": {},
     "output_type": "execute_result"
    }
   ],
   "source": [
    "# 5호선 역의 개수 확인\n",
    "df[(df['호선명'] == '5호선') | (df['호선명'] == '하남선')].지하철역.nunique()"
   ]
  },
  {
   "cell_type": "code",
   "execution_count": 35,
   "id": "f554494d",
   "metadata": {},
   "outputs": [],
   "source": [
    "# 이상하게 표기된 역 이름 수정\n",
    "df.replace('하남시청(덕풍?신장)', '하남시청', inplace=True)"
   ]
  },
  {
   "cell_type": "code",
   "execution_count": 36,
   "id": "b5374b40",
   "metadata": {},
   "outputs": [],
   "source": [
    "# '하남선' -> 5호선\n",
    "df.replace('하남선', '5호선', inplace=True)"
   ]
  },
  {
   "cell_type": "markdown",
   "id": "d2c67cc8",
   "metadata": {},
   "source": [
    "### 6호선 전처리"
   ]
  },
  {
   "cell_type": "code",
   "execution_count": 37,
   "id": "89d2f942",
   "metadata": {},
   "outputs": [
    {
     "data": {
      "text/plain": [
       "array(['고려대(종암)', '공덕', '광흥창(서강)', '구산', '녹사평(용산구청)', '대흥(서강대앞)', '독바위',\n",
       "       '돌곶이', '동묘앞', '디지털미디어시티', '마포구청', '망원', '버티고개', '보문', '봉화산(서울의료원)',\n",
       "       '불광', '삼각지', '상수', '상월곡(한국과학기술연구원)', '새절(신사)', '석계', '신내', '신당',\n",
       "       '안암(고대병원앞)', '약수', '역촌', '연신내', '월곡(동덕여대)', '월드컵경기장(성산)', '응암',\n",
       "       '이태원', '증산(명지대앞)', '창신', '청구', '태릉입구', '한강진', '합정', '화랑대(서울여대입구)',\n",
       "       '효창공원앞'], dtype=object)"
      ]
     },
     "execution_count": 37,
     "metadata": {},
     "output_type": "execute_result"
    }
   ],
   "source": [
    "# 6호선 역 이름 확인\n",
    "df[(df['호선명'] == '6호선')].지하철역.unique()"
   ]
  },
  {
   "cell_type": "code",
   "execution_count": 38,
   "id": "0871af8f",
   "metadata": {},
   "outputs": [
    {
     "data": {
      "text/plain": [
       "39"
      ]
     },
     "execution_count": 38,
     "metadata": {},
     "output_type": "execute_result"
    }
   ],
   "source": [
    "# 6호선 역의 개수 확인\n",
    "df[(df['호선명'] == '6호선')].지하철역.nunique()"
   ]
  },
  {
   "cell_type": "markdown",
   "id": "bdf55846",
   "metadata": {},
   "source": [
    "### 7호선 전처리"
   ]
  },
  {
   "cell_type": "code",
   "execution_count": 39,
   "id": "3b458974",
   "metadata": {},
   "outputs": [
    {
     "data": {
      "text/plain": [
       "array(['가산디지털단지', '강남구청', '건대입구', '고속터미널', '공릉(서울과학기술대)', '광명사거리',\n",
       "       '군자(능동)', '굴포천', '까치울', '남구로', '남성', '내방', '노원', '논현', '대림(구로구청)',\n",
       "       '도봉산', '뚝섬유원지', '마들', '먹골', '면목', '반포', '보라매', '부천시청', '부천종합운동장',\n",
       "       '부평구청', '사가정', '삼산체육관', '상도', '상동', '상봉(시외버스터미널)', '수락산',\n",
       "       '숭실대입구(살피재)', '신대방삼거리', '신중동', '신풍', '어린이대공원(세종대)', '온수(성공회대입구)',\n",
       "       '용마산(용마폭포공원)', '이수', '장승배기', '장암', '중계', '중곡', '중화', '천왕', '철산',\n",
       "       '청담', '춘의', '태릉입구', '하계', '학동', '용마산'], dtype=object)"
      ]
     },
     "execution_count": 39,
     "metadata": {},
     "output_type": "execute_result"
    }
   ],
   "source": [
    "# 7호선 역 이름 확인\n",
    "df[(df['호선명'] == '7호선')].지하철역.unique()"
   ]
  },
  {
   "cell_type": "code",
   "execution_count": 40,
   "id": "f189f9d4",
   "metadata": {},
   "outputs": [
    {
     "data": {
      "text/plain": [
       "52"
      ]
     },
     "execution_count": 40,
     "metadata": {},
     "output_type": "execute_result"
    }
   ],
   "source": [
    "# 7호선 역의 개수 확인\n",
    "df[(df['호선명'] == '7호선')].지하철역.nunique()"
   ]
  },
  {
   "cell_type": "code",
   "execution_count": 41,
   "id": "9edccfc1",
   "metadata": {},
   "outputs": [],
   "source": [
    "# 다르게 표기된 역 이름 수정(용마산(용마폭포공원) -> 용마산)\n",
    "df.replace('용마산(용마폭포공원)', '용마산', inplace=True)"
   ]
  },
  {
   "cell_type": "code",
   "execution_count": 42,
   "id": "06aaea89",
   "metadata": {},
   "outputs": [
    {
     "data": {
      "text/plain": [
       "51"
      ]
     },
     "execution_count": 42,
     "metadata": {},
     "output_type": "execute_result"
    }
   ],
   "source": [
    "# 수정된 역의 개수 확인\n",
    "df[(df['호선명'] == '7호선')].지하철역.nunique()"
   ]
  },
  {
   "cell_type": "markdown",
   "id": "60867323",
   "metadata": {},
   "source": [
    "### 8호선 전처리"
   ]
  },
  {
   "cell_type": "code",
   "execution_count": 43,
   "id": "c27f8afd",
   "metadata": {},
   "outputs": [
    {
     "data": {
      "text/plain": [
       "array(['가락시장', '강동구청', '남위례', '남한산성입구(성남법원.검찰청)', '단대오거리', '모란',\n",
       "       '몽촌토성(평화의문)', '문정', '복정', '산성', '석촌', '송파', '수진', '신흥', '암사',\n",
       "       '잠실(송파구청)', '장지', '천호(풍납토성)'], dtype=object)"
      ]
     },
     "execution_count": 43,
     "metadata": {},
     "output_type": "execute_result"
    }
   ],
   "source": [
    "# 8호선 역 이름 확인\n",
    "df[(df['호선명'] == '8호선')].지하철역.unique()"
   ]
  },
  {
   "cell_type": "code",
   "execution_count": 44,
   "id": "f1e7313e",
   "metadata": {},
   "outputs": [
    {
     "data": {
      "text/plain": [
       "18"
      ]
     },
     "execution_count": 44,
     "metadata": {},
     "output_type": "execute_result"
    }
   ],
   "source": [
    "# 8호선 역의 개수 확인\n",
    "df[(df['호선명'] == '8호선')].지하철역.nunique()"
   ]
  },
  {
   "cell_type": "markdown",
   "id": "0bf06eb0",
   "metadata": {},
   "source": [
    "### 9호선 전처리"
   ]
  },
  {
   "cell_type": "code",
   "execution_count": 45,
   "id": "549fa318",
   "metadata": {},
   "outputs": [
    {
     "data": {
      "text/plain": [
       "array(['가양', '개화', '고속터미널', '공항시장', '구반포', '국회의사당', '김포공항', '노들', '노량진',\n",
       "       '당산', '동작(현충원)', '등촌', '마곡나루(서울식물원)', '사평', '샛강', '선유도', '신논현',\n",
       "       '신목동', '신반포', '신방화', '양천향교', '여의도', '염창', '증미', '흑석(중앙대입구)',\n",
       "       '둔촌오륜', '봉은사', '삼성중앙', '삼전', '석촌', '석촌고분', '선정릉', '송파나루', '언주',\n",
       "       '올림픽공원(한국체대)', '종합운동장', '중앙보훈병원', '한성백제', '마곡나루'], dtype=object)"
      ]
     },
     "execution_count": 45,
     "metadata": {},
     "output_type": "execute_result"
    }
   ],
   "source": [
    "# 9호선 역 이름 확인\n",
    "df[(df['호선명'] == '9호선') | (df['호선명'] == '9호선2~3단계') | (df['호선명'] == '9호선2단계')].지하철역.unique()"
   ]
  },
  {
   "cell_type": "code",
   "execution_count": 46,
   "id": "6853516d",
   "metadata": {},
   "outputs": [
    {
     "data": {
      "text/plain": [
       "39"
      ]
     },
     "execution_count": 46,
     "metadata": {},
     "output_type": "execute_result"
    }
   ],
   "source": [
    "# 9호선 역의 개수 확인\n",
    "df[(df['호선명'] == '9호선') | (df['호선명'] == '9호선2~3단계') | (df['호선명'] == '9호선2단계')].지하철역.nunique()"
   ]
  },
  {
   "cell_type": "code",
   "execution_count": 47,
   "id": "c2d4d2fa",
   "metadata": {},
   "outputs": [],
   "source": [
    "# 다르게 표기된 역 이름 수정\n",
    "df.replace('마곡나루(서울식물원)', '마곡나루', inplace=True)"
   ]
  },
  {
   "cell_type": "code",
   "execution_count": 48,
   "id": "8d9fc6af",
   "metadata": {},
   "outputs": [
    {
     "name": "stdout",
     "output_type": "stream",
     "text": [
      "60\n"
     ]
    }
   ],
   "source": [
    "# 중복일이 있는지 확인\n",
    "print(df[(df['지하철역'].str.contains('마곡나루')) & (df['호선명'].str.contains('9호선'))].사용월.count())"
   ]
  },
  {
   "cell_type": "code",
   "execution_count": 49,
   "id": "90d1d9d6",
   "metadata": {},
   "outputs": [
    {
     "data": {
      "text/plain": [
       "38"
      ]
     },
     "execution_count": 49,
     "metadata": {},
     "output_type": "execute_result"
    }
   ],
   "source": [
    "# 수정된 역의 개수 확인\n",
    "df[(df['호선명'] == '9호선') | (df['호선명'] == '9호선2~3단계') | (df['호선명'] == '9호선2단계')].지하철역.nunique()"
   ]
  },
  {
   "cell_type": "code",
   "execution_count": 50,
   "id": "5284e9c4",
   "metadata": {},
   "outputs": [],
   "source": [
    "df.replace(['9호선2~3단계','9호선2단계'], '9호선', inplace=True)"
   ]
  },
  {
   "cell_type": "markdown",
   "id": "2a0c59ac",
   "metadata": {},
   "source": [
    "## 2. 열차 혼잡도가 가장 높은 시간대 분석"
   ]
  },
  {
   "cell_type": "markdown",
   "id": "eb73d3e2",
   "metadata": {},
   "source": [
    "### 1. 호선별로 가장 많이 승차하는 역은?"
   ]
  },
  {
   "cell_type": "code",
   "execution_count": 51,
   "id": "3a5b748e",
   "metadata": {},
   "outputs": [
    {
     "data": {
      "text/html": [
       "<div>\n",
       "<style scoped>\n",
       "    .dataframe tbody tr th:only-of-type {\n",
       "        vertical-align: middle;\n",
       "    }\n",
       "\n",
       "    .dataframe tbody tr th {\n",
       "        vertical-align: top;\n",
       "    }\n",
       "\n",
       "    .dataframe thead th {\n",
       "        text-align: right;\n",
       "    }\n",
       "</style>\n",
       "<table border=\"1\" class=\"dataframe\">\n",
       "  <thead>\n",
       "    <tr style=\"text-align: right;\">\n",
       "      <th></th>\n",
       "      <th></th>\n",
       "      <th>04시-05시 승차인원</th>\n",
       "      <th>05시-06시 승차인원</th>\n",
       "      <th>06시-07시 승차인원</th>\n",
       "      <th>07시-08시 승차인원</th>\n",
       "      <th>08시-09시 승차인원</th>\n",
       "      <th>09시-10시 승차인원</th>\n",
       "      <th>10시-11시 승차인원</th>\n",
       "      <th>11시-12시 승차인원</th>\n",
       "      <th>12시-13시 승차인원</th>\n",
       "      <th>13시-14시 승차인원</th>\n",
       "      <th>...</th>\n",
       "      <th>16시-17시 승차인원</th>\n",
       "      <th>17시-18시 승차인원</th>\n",
       "      <th>18시-19시 승차인원</th>\n",
       "      <th>19시-20시 승차인원</th>\n",
       "      <th>20시-21시 승차인원</th>\n",
       "      <th>21시-22시 승차인원</th>\n",
       "      <th>22시-23시 승차인원</th>\n",
       "      <th>23시-24시 승차인원</th>\n",
       "      <th>00시-01시 승차인원</th>\n",
       "      <th>1시 이후 승차</th>\n",
       "    </tr>\n",
       "    <tr>\n",
       "      <th>호선명</th>\n",
       "      <th>지하철역</th>\n",
       "      <th></th>\n",
       "      <th></th>\n",
       "      <th></th>\n",
       "      <th></th>\n",
       "      <th></th>\n",
       "      <th></th>\n",
       "      <th></th>\n",
       "      <th></th>\n",
       "      <th></th>\n",
       "      <th></th>\n",
       "      <th></th>\n",
       "      <th></th>\n",
       "      <th></th>\n",
       "      <th></th>\n",
       "      <th></th>\n",
       "      <th></th>\n",
       "      <th></th>\n",
       "      <th></th>\n",
       "      <th></th>\n",
       "      <th></th>\n",
       "      <th></th>\n",
       "    </tr>\n",
       "  </thead>\n",
       "  <tbody>\n",
       "    <tr>\n",
       "      <th rowspan=\"5\" valign=\"top\">1호선</th>\n",
       "      <th>가능</th>\n",
       "      <td>378.566667</td>\n",
       "      <td>7903.966667</td>\n",
       "      <td>12657.900000</td>\n",
       "      <td>24975.150000</td>\n",
       "      <td>23638.50</td>\n",
       "      <td>15203.016667</td>\n",
       "      <td>12468.350000</td>\n",
       "      <td>11413.266667</td>\n",
       "      <td>11396.200000</td>\n",
       "      <td>10297.183333</td>\n",
       "      <td>...</td>\n",
       "      <td>9408.133333</td>\n",
       "      <td>11904.933333</td>\n",
       "      <td>10438.883333</td>\n",
       "      <td>6907.316667</td>\n",
       "      <td>5042.433333</td>\n",
       "      <td>4362.666667</td>\n",
       "      <td>3276.916667</td>\n",
       "      <td>1441.250000</td>\n",
       "      <td>112.983333</td>\n",
       "      <td>0.050000</td>\n",
       "    </tr>\n",
       "    <tr>\n",
       "      <th>가산디지털단지</th>\n",
       "      <td>1340.000000</td>\n",
       "      <td>8205.400000</td>\n",
       "      <td>7914.766667</td>\n",
       "      <td>14763.350000</td>\n",
       "      <td>14539.55</td>\n",
       "      <td>11594.316667</td>\n",
       "      <td>10380.716667</td>\n",
       "      <td>10997.616667</td>\n",
       "      <td>12513.066667</td>\n",
       "      <td>14100.000000</td>\n",
       "      <td>...</td>\n",
       "      <td>21071.616667</td>\n",
       "      <td>50636.116667</td>\n",
       "      <td>110261.866667</td>\n",
       "      <td>49507.783333</td>\n",
       "      <td>29847.500000</td>\n",
       "      <td>25568.883333</td>\n",
       "      <td>17028.533333</td>\n",
       "      <td>6963.900000</td>\n",
       "      <td>182.500000</td>\n",
       "      <td>0.700000</td>\n",
       "    </tr>\n",
       "    <tr>\n",
       "      <th>간석</th>\n",
       "      <td>375.650000</td>\n",
       "      <td>5440.366667</td>\n",
       "      <td>11762.750000</td>\n",
       "      <td>26198.050000</td>\n",
       "      <td>22571.60</td>\n",
       "      <td>12716.833333</td>\n",
       "      <td>9789.983333</td>\n",
       "      <td>9361.316667</td>\n",
       "      <td>9559.716667</td>\n",
       "      <td>9258.916667</td>\n",
       "      <td>...</td>\n",
       "      <td>8938.200000</td>\n",
       "      <td>9440.016667</td>\n",
       "      <td>9900.700000</td>\n",
       "      <td>6011.500000</td>\n",
       "      <td>4716.033333</td>\n",
       "      <td>4322.416667</td>\n",
       "      <td>3165.583333</td>\n",
       "      <td>1666.233333</td>\n",
       "      <td>146.683333</td>\n",
       "      <td>0.116667</td>\n",
       "    </tr>\n",
       "    <tr>\n",
       "      <th>개봉</th>\n",
       "      <td>1226.050000</td>\n",
       "      <td>18414.966667</td>\n",
       "      <td>36569.333333</td>\n",
       "      <td>95251.200000</td>\n",
       "      <td>90883.65</td>\n",
       "      <td>54553.400000</td>\n",
       "      <td>38545.633333</td>\n",
       "      <td>34222.066667</td>\n",
       "      <td>35046.450000</td>\n",
       "      <td>33677.733333</td>\n",
       "      <td>...</td>\n",
       "      <td>30417.050000</td>\n",
       "      <td>32939.283333</td>\n",
       "      <td>33536.800000</td>\n",
       "      <td>21150.850000</td>\n",
       "      <td>16104.250000</td>\n",
       "      <td>14619.383333</td>\n",
       "      <td>10667.933333</td>\n",
       "      <td>4663.666667</td>\n",
       "      <td>175.616667</td>\n",
       "      <td>0.300000</td>\n",
       "    </tr>\n",
       "    <tr>\n",
       "      <th>관악</th>\n",
       "      <td>187.150000</td>\n",
       "      <td>6983.550000</td>\n",
       "      <td>13008.033333</td>\n",
       "      <td>34716.916667</td>\n",
       "      <td>33257.35</td>\n",
       "      <td>17020.783333</td>\n",
       "      <td>11564.533333</td>\n",
       "      <td>10261.366667</td>\n",
       "      <td>12046.166667</td>\n",
       "      <td>11519.200000</td>\n",
       "      <td>...</td>\n",
       "      <td>12228.200000</td>\n",
       "      <td>13637.950000</td>\n",
       "      <td>12179.150000</td>\n",
       "      <td>7554.000000</td>\n",
       "      <td>5467.800000</td>\n",
       "      <td>5186.383333</td>\n",
       "      <td>3273.933333</td>\n",
       "      <td>1254.416667</td>\n",
       "      <td>52.500000</td>\n",
       "      <td>0.066667</td>\n",
       "    </tr>\n",
       "  </tbody>\n",
       "</table>\n",
       "<p>5 rows × 22 columns</p>\n",
       "</div>"
      ],
      "text/plain": [
       "             04시-05시 승차인원  05시-06시 승차인원  06시-07시 승차인원  07시-08시 승차인원  \\\n",
       "호선명 지하철역                                                              \n",
       "1호선 가능         378.566667   7903.966667  12657.900000  24975.150000   \n",
       "    가산디지털단지   1340.000000   8205.400000   7914.766667  14763.350000   \n",
       "    간석         375.650000   5440.366667  11762.750000  26198.050000   \n",
       "    개봉        1226.050000  18414.966667  36569.333333  95251.200000   \n",
       "    관악         187.150000   6983.550000  13008.033333  34716.916667   \n",
       "\n",
       "             08시-09시 승차인원  09시-10시 승차인원  10시-11시 승차인원  11시-12시 승차인원  \\\n",
       "호선명 지하철역                                                              \n",
       "1호선 가능           23638.50  15203.016667  12468.350000  11413.266667   \n",
       "    가산디지털단지      14539.55  11594.316667  10380.716667  10997.616667   \n",
       "    간석           22571.60  12716.833333   9789.983333   9361.316667   \n",
       "    개봉           90883.65  54553.400000  38545.633333  34222.066667   \n",
       "    관악           33257.35  17020.783333  11564.533333  10261.366667   \n",
       "\n",
       "             12시-13시 승차인원  13시-14시 승차인원  ...  16시-17시 승차인원  17시-18시 승차인원  \\\n",
       "호선명 지하철역                                 ...                               \n",
       "1호선 가능       11396.200000  10297.183333  ...   9408.133333  11904.933333   \n",
       "    가산디지털단지  12513.066667  14100.000000  ...  21071.616667  50636.116667   \n",
       "    간석        9559.716667   9258.916667  ...   8938.200000   9440.016667   \n",
       "    개봉       35046.450000  33677.733333  ...  30417.050000  32939.283333   \n",
       "    관악       12046.166667  11519.200000  ...  12228.200000  13637.950000   \n",
       "\n",
       "              18시-19시 승차인원  19시-20시 승차인원  20시-21시 승차인원  21시-22시 승차인원  \\\n",
       "호선명 지하철역                                                               \n",
       "1호선 가능        10438.883333   6907.316667   5042.433333   4362.666667   \n",
       "    가산디지털단지  110261.866667  49507.783333  29847.500000  25568.883333   \n",
       "    간석         9900.700000   6011.500000   4716.033333   4322.416667   \n",
       "    개봉        33536.800000  21150.850000  16104.250000  14619.383333   \n",
       "    관악        12179.150000   7554.000000   5467.800000   5186.383333   \n",
       "\n",
       "             22시-23시 승차인원  23시-24시 승차인원  00시-01시 승차인원  1시 이후 승차  \n",
       "호선명 지하철역                                                         \n",
       "1호선 가능        3276.916667   1441.250000    112.983333  0.050000  \n",
       "    가산디지털단지  17028.533333   6963.900000    182.500000  0.700000  \n",
       "    간석        3165.583333   1666.233333    146.683333  0.116667  \n",
       "    개봉       10667.933333   4663.666667    175.616667  0.300000  \n",
       "    관악        3273.933333   1254.416667     52.500000  0.066667  \n",
       "\n",
       "[5 rows x 22 columns]"
      ]
     },
     "execution_count": 51,
     "metadata": {},
     "output_type": "execute_result"
    }
   ],
   "source": [
    "df_in = df.groupby(['호선명', '지하철역'], group_keys=False)[df.columns[df.columns.str.contains('승차')]].mean()\n",
    "df_in.head()"
   ]
  },
  {
   "cell_type": "code",
   "execution_count": 52,
   "id": "699c3a79",
   "metadata": {},
   "outputs": [
    {
     "data": {
      "text/html": [
       "<div>\n",
       "<style scoped>\n",
       "    .dataframe tbody tr th:only-of-type {\n",
       "        vertical-align: middle;\n",
       "    }\n",
       "\n",
       "    .dataframe tbody tr th {\n",
       "        vertical-align: top;\n",
       "    }\n",
       "\n",
       "    .dataframe thead th {\n",
       "        text-align: right;\n",
       "    }\n",
       "</style>\n",
       "<table border=\"1\" class=\"dataframe\">\n",
       "  <thead>\n",
       "    <tr style=\"text-align: right;\">\n",
       "      <th></th>\n",
       "      <th></th>\n",
       "      <th>04시-05시 승차인원</th>\n",
       "      <th>05시-06시 승차인원</th>\n",
       "      <th>06시-07시 승차인원</th>\n",
       "      <th>07시-08시 승차인원</th>\n",
       "      <th>08시-09시 승차인원</th>\n",
       "      <th>09시-10시 승차인원</th>\n",
       "      <th>10시-11시 승차인원</th>\n",
       "      <th>11시-12시 승차인원</th>\n",
       "      <th>12시-13시 승차인원</th>\n",
       "      <th>13시-14시 승차인원</th>\n",
       "      <th>...</th>\n",
       "      <th>17시-18시 승차인원</th>\n",
       "      <th>18시-19시 승차인원</th>\n",
       "      <th>19시-20시 승차인원</th>\n",
       "      <th>20시-21시 승차인원</th>\n",
       "      <th>21시-22시 승차인원</th>\n",
       "      <th>22시-23시 승차인원</th>\n",
       "      <th>23시-24시 승차인원</th>\n",
       "      <th>00시-01시 승차인원</th>\n",
       "      <th>1시 이후 승차</th>\n",
       "      <th>총 승차인원</th>\n",
       "    </tr>\n",
       "    <tr>\n",
       "      <th>호선명</th>\n",
       "      <th>지하철역</th>\n",
       "      <th></th>\n",
       "      <th></th>\n",
       "      <th></th>\n",
       "      <th></th>\n",
       "      <th></th>\n",
       "      <th></th>\n",
       "      <th></th>\n",
       "      <th></th>\n",
       "      <th></th>\n",
       "      <th></th>\n",
       "      <th></th>\n",
       "      <th></th>\n",
       "      <th></th>\n",
       "      <th></th>\n",
       "      <th></th>\n",
       "      <th></th>\n",
       "      <th></th>\n",
       "      <th></th>\n",
       "      <th></th>\n",
       "      <th></th>\n",
       "      <th></th>\n",
       "    </tr>\n",
       "  </thead>\n",
       "  <tbody>\n",
       "    <tr>\n",
       "      <th rowspan=\"5\" valign=\"top\">1호선</th>\n",
       "      <th>가능</th>\n",
       "      <td>378.566667</td>\n",
       "      <td>7903.966667</td>\n",
       "      <td>12657.900000</td>\n",
       "      <td>24975.150000</td>\n",
       "      <td>23638.50</td>\n",
       "      <td>15203.016667</td>\n",
       "      <td>12468.350000</td>\n",
       "      <td>11413.266667</td>\n",
       "      <td>11396.200000</td>\n",
       "      <td>10297.183333</td>\n",
       "      <td>...</td>\n",
       "      <td>11904.933333</td>\n",
       "      <td>10438.883333</td>\n",
       "      <td>6907.316667</td>\n",
       "      <td>5042.433333</td>\n",
       "      <td>4362.666667</td>\n",
       "      <td>3276.916667</td>\n",
       "      <td>1441.250000</td>\n",
       "      <td>112.983333</td>\n",
       "      <td>0.050000</td>\n",
       "      <td>201486.200000</td>\n",
       "    </tr>\n",
       "    <tr>\n",
       "      <th>가산디지털단지</th>\n",
       "      <td>1340.000000</td>\n",
       "      <td>8205.400000</td>\n",
       "      <td>7914.766667</td>\n",
       "      <td>14763.350000</td>\n",
       "      <td>14539.55</td>\n",
       "      <td>11594.316667</td>\n",
       "      <td>10380.716667</td>\n",
       "      <td>10997.616667</td>\n",
       "      <td>12513.066667</td>\n",
       "      <td>14100.000000</td>\n",
       "      <td>...</td>\n",
       "      <td>50636.116667</td>\n",
       "      <td>110261.866667</td>\n",
       "      <td>49507.783333</td>\n",
       "      <td>29847.500000</td>\n",
       "      <td>25568.883333</td>\n",
       "      <td>17028.533333</td>\n",
       "      <td>6963.900000</td>\n",
       "      <td>182.500000</td>\n",
       "      <td>0.700000</td>\n",
       "      <td>448042.516667</td>\n",
       "    </tr>\n",
       "    <tr>\n",
       "      <th>간석</th>\n",
       "      <td>375.650000</td>\n",
       "      <td>5440.366667</td>\n",
       "      <td>11762.750000</td>\n",
       "      <td>26198.050000</td>\n",
       "      <td>22571.60</td>\n",
       "      <td>12716.833333</td>\n",
       "      <td>9789.983333</td>\n",
       "      <td>9361.316667</td>\n",
       "      <td>9559.716667</td>\n",
       "      <td>9258.916667</td>\n",
       "      <td>...</td>\n",
       "      <td>9440.016667</td>\n",
       "      <td>9900.700000</td>\n",
       "      <td>6011.500000</td>\n",
       "      <td>4716.033333</td>\n",
       "      <td>4322.416667</td>\n",
       "      <td>3165.583333</td>\n",
       "      <td>1666.233333</td>\n",
       "      <td>146.683333</td>\n",
       "      <td>0.116667</td>\n",
       "      <td>181198.750000</td>\n",
       "    </tr>\n",
       "    <tr>\n",
       "      <th>개봉</th>\n",
       "      <td>1226.050000</td>\n",
       "      <td>18414.966667</td>\n",
       "      <td>36569.333333</td>\n",
       "      <td>95251.200000</td>\n",
       "      <td>90883.65</td>\n",
       "      <td>54553.400000</td>\n",
       "      <td>38545.633333</td>\n",
       "      <td>34222.066667</td>\n",
       "      <td>35046.450000</td>\n",
       "      <td>33677.733333</td>\n",
       "      <td>...</td>\n",
       "      <td>32939.283333</td>\n",
       "      <td>33536.800000</td>\n",
       "      <td>21150.850000</td>\n",
       "      <td>16104.250000</td>\n",
       "      <td>14619.383333</td>\n",
       "      <td>10667.933333</td>\n",
       "      <td>4663.666667</td>\n",
       "      <td>175.616667</td>\n",
       "      <td>0.300000</td>\n",
       "      <td>659822.750000</td>\n",
       "    </tr>\n",
       "    <tr>\n",
       "      <th>관악</th>\n",
       "      <td>187.150000</td>\n",
       "      <td>6983.550000</td>\n",
       "      <td>13008.033333</td>\n",
       "      <td>34716.916667</td>\n",
       "      <td>33257.35</td>\n",
       "      <td>17020.783333</td>\n",
       "      <td>11564.533333</td>\n",
       "      <td>10261.366667</td>\n",
       "      <td>12046.166667</td>\n",
       "      <td>11519.200000</td>\n",
       "      <td>...</td>\n",
       "      <td>13637.950000</td>\n",
       "      <td>12179.150000</td>\n",
       "      <td>7554.000000</td>\n",
       "      <td>5467.800000</td>\n",
       "      <td>5186.383333</td>\n",
       "      <td>3273.933333</td>\n",
       "      <td>1254.416667</td>\n",
       "      <td>52.500000</td>\n",
       "      <td>0.066667</td>\n",
       "      <td>232469.550000</td>\n",
       "    </tr>\n",
       "  </tbody>\n",
       "</table>\n",
       "<p>5 rows × 23 columns</p>\n",
       "</div>"
      ],
      "text/plain": [
       "             04시-05시 승차인원  05시-06시 승차인원  06시-07시 승차인원  07시-08시 승차인원  \\\n",
       "호선명 지하철역                                                              \n",
       "1호선 가능         378.566667   7903.966667  12657.900000  24975.150000   \n",
       "    가산디지털단지   1340.000000   8205.400000   7914.766667  14763.350000   \n",
       "    간석         375.650000   5440.366667  11762.750000  26198.050000   \n",
       "    개봉        1226.050000  18414.966667  36569.333333  95251.200000   \n",
       "    관악         187.150000   6983.550000  13008.033333  34716.916667   \n",
       "\n",
       "             08시-09시 승차인원  09시-10시 승차인원  10시-11시 승차인원  11시-12시 승차인원  \\\n",
       "호선명 지하철역                                                              \n",
       "1호선 가능           23638.50  15203.016667  12468.350000  11413.266667   \n",
       "    가산디지털단지      14539.55  11594.316667  10380.716667  10997.616667   \n",
       "    간석           22571.60  12716.833333   9789.983333   9361.316667   \n",
       "    개봉           90883.65  54553.400000  38545.633333  34222.066667   \n",
       "    관악           33257.35  17020.783333  11564.533333  10261.366667   \n",
       "\n",
       "             12시-13시 승차인원  13시-14시 승차인원  ...  17시-18시 승차인원   18시-19시 승차인원  \\\n",
       "호선명 지하철역                                 ...                                \n",
       "1호선 가능       11396.200000  10297.183333  ...  11904.933333   10438.883333   \n",
       "    가산디지털단지  12513.066667  14100.000000  ...  50636.116667  110261.866667   \n",
       "    간석        9559.716667   9258.916667  ...   9440.016667    9900.700000   \n",
       "    개봉       35046.450000  33677.733333  ...  32939.283333   33536.800000   \n",
       "    관악       12046.166667  11519.200000  ...  13637.950000   12179.150000   \n",
       "\n",
       "             19시-20시 승차인원  20시-21시 승차인원  21시-22시 승차인원  22시-23시 승차인원  \\\n",
       "호선명 지하철역                                                              \n",
       "1호선 가능        6907.316667   5042.433333   4362.666667   3276.916667   \n",
       "    가산디지털단지  49507.783333  29847.500000  25568.883333  17028.533333   \n",
       "    간석        6011.500000   4716.033333   4322.416667   3165.583333   \n",
       "    개봉       21150.850000  16104.250000  14619.383333  10667.933333   \n",
       "    관악        7554.000000   5467.800000   5186.383333   3273.933333   \n",
       "\n",
       "             23시-24시 승차인원  00시-01시 승차인원  1시 이후 승차         총 승차인원  \n",
       "호선명 지하철역                                                          \n",
       "1호선 가능        1441.250000    112.983333  0.050000  201486.200000  \n",
       "    가산디지털단지   6963.900000    182.500000  0.700000  448042.516667  \n",
       "    간석        1666.233333    146.683333  0.116667  181198.750000  \n",
       "    개봉        4663.666667    175.616667  0.300000  659822.750000  \n",
       "    관악        1254.416667     52.500000  0.066667  232469.550000  \n",
       "\n",
       "[5 rows x 23 columns]"
      ]
     },
     "execution_count": 52,
     "metadata": {},
     "output_type": "execute_result"
    }
   ],
   "source": [
    "# df에 하루 총 승차인원 column추가\n",
    "df_in['총 승차인원'] = df_in.sum(axis=1)\n",
    "df_in.head()"
   ]
  },
  {
   "cell_type": "code",
   "execution_count": 53,
   "id": "a8fe38f7",
   "metadata": {},
   "outputs": [],
   "source": [
    "# 하루 총 탑승객이 300보다 작은 일자의 데이터 삭제\n",
    "df_in.drop(df_in[df_in['총 승차인원']<=300].index, axis=0, inplace=True)"
   ]
  },
  {
   "cell_type": "code",
   "execution_count": 72,
   "id": "95316b98",
   "metadata": {
    "scrolled": true
   },
   "outputs": [
    {
     "name": "stdout",
     "output_type": "stream",
     "text": [
      "1호선\n",
      "            총 승차인원\n",
      "지하철역              \n",
      "영등포   1.313540e+06\n",
      "-------------------------------------\n",
      "2호선\n",
      "            총 승차인원\n",
      "지하철역              \n",
      "강남    2.671963e+06\n",
      "-------------------------------------\n",
      "3호선\n",
      "             총 승차인원\n",
      "지하철역               \n",
      "고속터미널  1.566454e+06\n",
      "-------------------------------------\n",
      "4호선\n",
      "         총 승차인원\n",
      "지하철역           \n",
      "혜화    1084945.2\n",
      "-------------------------------------\n",
      "5호선\n",
      "                    총 승차인원\n",
      "지하철역                      \n",
      "광화문(세종문화회관)  941533.816667\n",
      "-------------------------------------\n",
      "6호선\n",
      "             총 승차인원\n",
      "지하철역               \n",
      "응암    505169.533333\n",
      "-------------------------------------\n",
      "7호선\n",
      "               총 승차인원\n",
      "지하철역                 \n",
      "가산디지털단지  1.134524e+06\n",
      "-------------------------------------\n",
      "8호선\n",
      "             총 승차인원\n",
      "지하철역               \n",
      "암사    522706.016667\n",
      "-------------------------------------\n",
      "9호선\n",
      "             총 승차인원\n",
      "지하철역               \n",
      "신논현   869373.916667\n",
      "-------------------------------------\n"
     ]
    }
   ],
   "source": [
    "# 그래프를 그리기 위한 변수 생성\n",
    "x1, x2, x3 = [], [], []\n",
    "\n",
    "# 각 호선별 총 승차인원 top5 출력\n",
    "for i in range(1, 10):\n",
    "    df_in_i = df_in.xs(f'{i}호선',level='호선명').sort_values('총 승차인원', ascending=False).head(5)\n",
    "    \n",
    "    print(f'{i}호선')\n",
    "    print(df_in_i[['총 승차인원']])\n",
    "    print('-------------------------------------')\n",
    "    \n",
    "    # 그래프 값 저장\n",
    "    x1.append(f'{i}호선')\n",
    "    x2.append(df_in_i.index[0])\n",
    "    x3.append(df_in_i['총 승차인원'][0])\n",
    "    \n",
    "    # 각 호선별 승차인원이 가장 많은 역저장\n",
    "    globals()[\"df_in_{}\".format(i)] = df_in.xs(f'{i}호선',level='호선명').sort_values('총 승차인원', ascending=False).head(1)"
   ]
  },
  {
   "cell_type": "code",
   "execution_count": 55,
   "id": "3b779af8",
   "metadata": {},
   "outputs": [],
   "source": [
    "# 호선별 가장 많이 승차하는 역을 데이터 프레임으로 저장\n",
    "df_in_max = pd.DataFrame({'호선명' : x1, '지하철역' : x2, '총 승차인원' : x3})"
   ]
  },
  {
   "cell_type": "code",
   "execution_count": 56,
   "id": "0ec32347",
   "metadata": {},
   "outputs": [
    {
     "data": {
      "text/html": [
       "<div>\n",
       "<style scoped>\n",
       "    .dataframe tbody tr th:only-of-type {\n",
       "        vertical-align: middle;\n",
       "    }\n",
       "\n",
       "    .dataframe tbody tr th {\n",
       "        vertical-align: top;\n",
       "    }\n",
       "\n",
       "    .dataframe thead th {\n",
       "        text-align: right;\n",
       "    }\n",
       "</style>\n",
       "<table border=\"1\" class=\"dataframe\">\n",
       "  <thead>\n",
       "    <tr style=\"text-align: right;\">\n",
       "      <th></th>\n",
       "      <th>호선명</th>\n",
       "      <th>지하철역</th>\n",
       "      <th>총 승차인원</th>\n",
       "    </tr>\n",
       "  </thead>\n",
       "  <tbody>\n",
       "    <tr>\n",
       "      <th>0</th>\n",
       "      <td>1호선</td>\n",
       "      <td>영등포</td>\n",
       "      <td>1.313540e+06</td>\n",
       "    </tr>\n",
       "    <tr>\n",
       "      <th>1</th>\n",
       "      <td>2호선</td>\n",
       "      <td>강남</td>\n",
       "      <td>2.671963e+06</td>\n",
       "    </tr>\n",
       "    <tr>\n",
       "      <th>2</th>\n",
       "      <td>3호선</td>\n",
       "      <td>고속터미널</td>\n",
       "      <td>1.566454e+06</td>\n",
       "    </tr>\n",
       "    <tr>\n",
       "      <th>3</th>\n",
       "      <td>4호선</td>\n",
       "      <td>혜화</td>\n",
       "      <td>1.084945e+06</td>\n",
       "    </tr>\n",
       "    <tr>\n",
       "      <th>4</th>\n",
       "      <td>5호선</td>\n",
       "      <td>광화문(세종문화회관)</td>\n",
       "      <td>9.415338e+05</td>\n",
       "    </tr>\n",
       "    <tr>\n",
       "      <th>5</th>\n",
       "      <td>6호선</td>\n",
       "      <td>응암</td>\n",
       "      <td>5.051695e+05</td>\n",
       "    </tr>\n",
       "    <tr>\n",
       "      <th>6</th>\n",
       "      <td>7호선</td>\n",
       "      <td>가산디지털단지</td>\n",
       "      <td>1.134524e+06</td>\n",
       "    </tr>\n",
       "    <tr>\n",
       "      <th>7</th>\n",
       "      <td>8호선</td>\n",
       "      <td>암사</td>\n",
       "      <td>5.227060e+05</td>\n",
       "    </tr>\n",
       "    <tr>\n",
       "      <th>8</th>\n",
       "      <td>9호선</td>\n",
       "      <td>신논현</td>\n",
       "      <td>8.693739e+05</td>\n",
       "    </tr>\n",
       "  </tbody>\n",
       "</table>\n",
       "</div>"
      ],
      "text/plain": [
       "   호선명         지하철역        총 승차인원\n",
       "0  1호선          영등포  1.313540e+06\n",
       "1  2호선           강남  2.671963e+06\n",
       "2  3호선        고속터미널  1.566454e+06\n",
       "3  4호선           혜화  1.084945e+06\n",
       "4  5호선  광화문(세종문화회관)  9.415338e+05\n",
       "5  6호선           응암  5.051695e+05\n",
       "6  7호선      가산디지털단지  1.134524e+06\n",
       "7  8호선           암사  5.227060e+05\n",
       "8  9호선          신논현  8.693739e+05"
      ]
     },
     "execution_count": 56,
     "metadata": {},
     "output_type": "execute_result"
    }
   ],
   "source": [
    "df_in_max"
   ]
  },
  {
   "cell_type": "code",
   "execution_count": 57,
   "id": "b194a866",
   "metadata": {
    "scrolled": false
   },
   "outputs": [
    {
     "data": {
      "image/png": "[encoded data removed]",
      "text/plain": [
       "<Figure size 640x480 with 1 Axes>"
      ]
     },
     "metadata": {},
     "output_type": "display_data"
    }
   ],
   "source": [
    "# 그래프\n",
    "plt.bar(df_in_max['호선명'],df_in_max['총 승차인원'], color='pink')\n",
    "for i in range(0,9):\n",
    "    plt.text(i,df_in_max.iloc[i]['총 승차인원']+80000,df_in_max.iloc[i]['지하철역'], va='center', ha='center', size=8)"
   ]
  },
  {
   "cell_type": "markdown",
   "id": "85100eda",
   "metadata": {},
   "source": [
    "- 이 역의 가장 혼잡한 시간대는?"
   ]
  },
  {
   "cell_type": "code",
   "execution_count": 87,
   "id": "e8854e9b",
   "metadata": {},
   "outputs": [
    {
     "data": {
      "image/png": "[encoded data removed]",
      "text/plain": [
       "<Figure size 1500x500 with 9 Axes>"
      ]
     },
     "metadata": {},
     "output_type": "display_data"
    }
   ],
   "source": [
    "fig = plt.figure(figsize=(15,5))\n",
    "\n",
    "#9개의 서브 플롯\n",
    "ax1 = fig.add_subplot(331)\n",
    "ax2 = fig.add_subplot(332)\n",
    "ax3 = fig.add_subplot(333)\n",
    "ax4 = fig.add_subplot(334)\n",
    "ax5 = fig.add_subplot(335)\n",
    "ax6 = fig.add_subplot(336)\n",
    "ax7 = fig.add_subplot(337)\n",
    "ax8 = fig.add_subplot(338)\n",
    "ax9 = fig.add_subplot(339)"
   ]
  },
  {
   "cell_type": "code",
   "execution_count": null,
   "id": "7c14f414",
   "metadata": {},
   "outputs": [],
   "source": []
  },
  {
   "cell_type": "code",
   "execution_count": null,
   "id": "93dc5c8e",
   "metadata": {},
   "outputs": [],
   "source": []
  },
  {
   "cell_type": "markdown",
   "id": "2387297b",
   "metadata": {},
   "source": [
    "### 2. 호선별로 가장 많이 하차하는 역은?"
   ]
  },
  {
   "cell_type": "code",
   "execution_count": 88,
   "id": "c3b0c749",
   "metadata": {},
   "outputs": [
    {
     "data": {
      "text/html": [
       "<div>\n",
       "<style scoped>\n",
       "    .dataframe tbody tr th:only-of-type {\n",
       "        vertical-align: middle;\n",
       "    }\n",
       "\n",
       "    .dataframe tbody tr th {\n",
       "        vertical-align: top;\n",
       "    }\n",
       "\n",
       "    .dataframe thead th {\n",
       "        text-align: right;\n",
       "    }\n",
       "</style>\n",
       "<table border=\"1\" class=\"dataframe\">\n",
       "  <thead>\n",
       "    <tr style=\"text-align: right;\">\n",
       "      <th></th>\n",
       "      <th></th>\n",
       "      <th>04시-05시 하차인원</th>\n",
       "      <th>05시-06시 하차인원</th>\n",
       "      <th>06시-07시 하차인원</th>\n",
       "      <th>07시-08시 하차인원</th>\n",
       "      <th>08시-09시 하차인원</th>\n",
       "      <th>09시-10시 하차인원</th>\n",
       "      <th>10시-11시 하차인원</th>\n",
       "      <th>11시-12시 하차인원</th>\n",
       "      <th>12시-13시 하차인원</th>\n",
       "      <th>13시-14시 하차인원</th>\n",
       "      <th>...</th>\n",
       "      <th>16시-17시 하차인원</th>\n",
       "      <th>17시-18시 하차인원</th>\n",
       "      <th>18시-19시 하차인원</th>\n",
       "      <th>19시-20시 하차인원</th>\n",
       "      <th>20시-21시 하차인원</th>\n",
       "      <th>21시-22시 하차인원</th>\n",
       "      <th>22시-23시 하차인원</th>\n",
       "      <th>23시-24시 하차인원</th>\n",
       "      <th>00시-01시 하차인원</th>\n",
       "      <th>1시 이후 하차</th>\n",
       "    </tr>\n",
       "    <tr>\n",
       "      <th>호선명</th>\n",
       "      <th>지하철역</th>\n",
       "      <th></th>\n",
       "      <th></th>\n",
       "      <th></th>\n",
       "      <th></th>\n",
       "      <th></th>\n",
       "      <th></th>\n",
       "      <th></th>\n",
       "      <th></th>\n",
       "      <th></th>\n",
       "      <th></th>\n",
       "      <th></th>\n",
       "      <th></th>\n",
       "      <th></th>\n",
       "      <th></th>\n",
       "      <th></th>\n",
       "      <th></th>\n",
       "      <th></th>\n",
       "      <th></th>\n",
       "      <th></th>\n",
       "      <th></th>\n",
       "      <th></th>\n",
       "    </tr>\n",
       "  </thead>\n",
       "  <tbody>\n",
       "    <tr>\n",
       "      <th rowspan=\"5\" valign=\"top\">1호선</th>\n",
       "      <th>가능</th>\n",
       "      <td>6.050000</td>\n",
       "      <td>1626.133333</td>\n",
       "      <td>4374.083333</td>\n",
       "      <td>5366.183333</td>\n",
       "      <td>16129.050000</td>\n",
       "      <td>8418.733333</td>\n",
       "      <td>6858.433333</td>\n",
       "      <td>6510.516667</td>\n",
       "      <td>7152.233333</td>\n",
       "      <td>8397.616667</td>\n",
       "      <td>...</td>\n",
       "      <td>11731.216667</td>\n",
       "      <td>14506.450000</td>\n",
       "      <td>19975.616667</td>\n",
       "      <td>19968.933333</td>\n",
       "      <td>13216.083333</td>\n",
       "      <td>9974.333333</td>\n",
       "      <td>9940.933333</td>\n",
       "      <td>6906.650000</td>\n",
       "      <td>1916.666667</td>\n",
       "      <td>1.650000</td>\n",
       "    </tr>\n",
       "    <tr>\n",
       "      <th>가산디지털단지</th>\n",
       "      <td>6.133333</td>\n",
       "      <td>1980.583333</td>\n",
       "      <td>10941.750000</td>\n",
       "      <td>46802.533333</td>\n",
       "      <td>153276.750000</td>\n",
       "      <td>72598.500000</td>\n",
       "      <td>21970.766667</td>\n",
       "      <td>16996.766667</td>\n",
       "      <td>16409.233333</td>\n",
       "      <td>17653.733333</td>\n",
       "      <td>...</td>\n",
       "      <td>18747.833333</td>\n",
       "      <td>23332.466667</td>\n",
       "      <td>27912.033333</td>\n",
       "      <td>22441.483333</td>\n",
       "      <td>13175.716667</td>\n",
       "      <td>13044.050000</td>\n",
       "      <td>11600.800000</td>\n",
       "      <td>6686.566667</td>\n",
       "      <td>1090.016667</td>\n",
       "      <td>2.033333</td>\n",
       "    </tr>\n",
       "    <tr>\n",
       "      <th>간석</th>\n",
       "      <td>10.866667</td>\n",
       "      <td>1158.600000</td>\n",
       "      <td>2589.983333</td>\n",
       "      <td>4138.650000</td>\n",
       "      <td>8974.150000</td>\n",
       "      <td>5961.950000</td>\n",
       "      <td>5196.216667</td>\n",
       "      <td>5690.166667</td>\n",
       "      <td>6616.683333</td>\n",
       "      <td>7212.183333</td>\n",
       "      <td>...</td>\n",
       "      <td>11038.183333</td>\n",
       "      <td>14301.233333</td>\n",
       "      <td>19304.766667</td>\n",
       "      <td>19758.183333</td>\n",
       "      <td>12610.466667</td>\n",
       "      <td>10974.983333</td>\n",
       "      <td>10211.350000</td>\n",
       "      <td>7005.550000</td>\n",
       "      <td>2437.116667</td>\n",
       "      <td>2.066667</td>\n",
       "    </tr>\n",
       "    <tr>\n",
       "      <th>개봉</th>\n",
       "      <td>8.633333</td>\n",
       "      <td>5494.800000</td>\n",
       "      <td>11855.966667</td>\n",
       "      <td>16530.883333</td>\n",
       "      <td>26158.450000</td>\n",
       "      <td>20669.783333</td>\n",
       "      <td>17667.533333</td>\n",
       "      <td>20241.466667</td>\n",
       "      <td>24447.716667</td>\n",
       "      <td>24229.850000</td>\n",
       "      <td>...</td>\n",
       "      <td>43570.266667</td>\n",
       "      <td>59967.050000</td>\n",
       "      <td>89897.233333</td>\n",
       "      <td>78656.183333</td>\n",
       "      <td>48984.700000</td>\n",
       "      <td>44434.883333</td>\n",
       "      <td>39313.183333</td>\n",
       "      <td>24220.900000</td>\n",
       "      <td>3167.933333</td>\n",
       "      <td>2.283333</td>\n",
       "    </tr>\n",
       "    <tr>\n",
       "      <th>관악</th>\n",
       "      <td>1.800000</td>\n",
       "      <td>1931.716667</td>\n",
       "      <td>4626.450000</td>\n",
       "      <td>6062.566667</td>\n",
       "      <td>10607.266667</td>\n",
       "      <td>11114.666667</td>\n",
       "      <td>10735.233333</td>\n",
       "      <td>8128.400000</td>\n",
       "      <td>8069.283333</td>\n",
       "      <td>7915.516667</td>\n",
       "      <td>...</td>\n",
       "      <td>11694.333333</td>\n",
       "      <td>15376.666667</td>\n",
       "      <td>27496.433333</td>\n",
       "      <td>24178.633333</td>\n",
       "      <td>14773.550000</td>\n",
       "      <td>14446.850000</td>\n",
       "      <td>12601.583333</td>\n",
       "      <td>8734.116667</td>\n",
       "      <td>980.500000</td>\n",
       "      <td>0.266667</td>\n",
       "    </tr>\n",
       "  </tbody>\n",
       "</table>\n",
       "<p>5 rows × 22 columns</p>\n",
       "</div>"
      ],
      "text/plain": [
       "             04시-05시 하차인원  05시-06시 하차인원  06시-07시 하차인원  07시-08시 하차인원  \\\n",
       "호선명 지하철역                                                              \n",
       "1호선 가능           6.050000   1626.133333   4374.083333   5366.183333   \n",
       "    가산디지털단지      6.133333   1980.583333  10941.750000  46802.533333   \n",
       "    간석          10.866667   1158.600000   2589.983333   4138.650000   \n",
       "    개봉           8.633333   5494.800000  11855.966667  16530.883333   \n",
       "    관악           1.800000   1931.716667   4626.450000   6062.566667   \n",
       "\n",
       "              08시-09시 하차인원  09시-10시 하차인원  10시-11시 하차인원  11시-12시 하차인원  \\\n",
       "호선명 지하철역                                                               \n",
       "1호선 가능        16129.050000   8418.733333   6858.433333   6510.516667   \n",
       "    가산디지털단지  153276.750000  72598.500000  21970.766667  16996.766667   \n",
       "    간석         8974.150000   5961.950000   5196.216667   5690.166667   \n",
       "    개봉        26158.450000  20669.783333  17667.533333  20241.466667   \n",
       "    관악        10607.266667  11114.666667  10735.233333   8128.400000   \n",
       "\n",
       "             12시-13시 하차인원  13시-14시 하차인원  ...  16시-17시 하차인원  17시-18시 하차인원  \\\n",
       "호선명 지하철역                                 ...                               \n",
       "1호선 가능        7152.233333   8397.616667  ...  11731.216667  14506.450000   \n",
       "    가산디지털단지  16409.233333  17653.733333  ...  18747.833333  23332.466667   \n",
       "    간석        6616.683333   7212.183333  ...  11038.183333  14301.233333   \n",
       "    개봉       24447.716667  24229.850000  ...  43570.266667  59967.050000   \n",
       "    관악        8069.283333   7915.516667  ...  11694.333333  15376.666667   \n",
       "\n",
       "             18시-19시 하차인원  19시-20시 하차인원  20시-21시 하차인원  21시-22시 하차인원  \\\n",
       "호선명 지하철역                                                              \n",
       "1호선 가능       19975.616667  19968.933333  13216.083333   9974.333333   \n",
       "    가산디지털단지  27912.033333  22441.483333  13175.716667  13044.050000   \n",
       "    간석       19304.766667  19758.183333  12610.466667  10974.983333   \n",
       "    개봉       89897.233333  78656.183333  48984.700000  44434.883333   \n",
       "    관악       27496.433333  24178.633333  14773.550000  14446.850000   \n",
       "\n",
       "             22시-23시 하차인원  23시-24시 하차인원  00시-01시 하차인원  1시 이후 하차  \n",
       "호선명 지하철역                                                         \n",
       "1호선 가능        9940.933333   6906.650000   1916.666667  1.650000  \n",
       "    가산디지털단지  11600.800000   6686.566667   1090.016667  2.033333  \n",
       "    간석       10211.350000   7005.550000   2437.116667  2.066667  \n",
       "    개봉       39313.183333  24220.900000   3167.933333  2.283333  \n",
       "    관악       12601.583333   8734.116667    980.500000  0.266667  \n",
       "\n",
       "[5 rows x 22 columns]"
      ]
     },
     "execution_count": 88,
     "metadata": {},
     "output_type": "execute_result"
    }
   ],
   "source": [
    "df_off = df.groupby(['호선명', '지하철역'], group_keys=False)[df.columns[df.columns.str.contains('하차')]].mean()\n",
    "df_off.head()"
   ]
  },
  {
   "cell_type": "code",
   "execution_count": 91,
   "id": "38777ae1",
   "metadata": {},
   "outputs": [
    {
     "data": {
      "text/html": [
       "<div>\n",
       "<style scoped>\n",
       "    .dataframe tbody tr th:only-of-type {\n",
       "        vertical-align: middle;\n",
       "    }\n",
       "\n",
       "    .dataframe tbody tr th {\n",
       "        vertical-align: top;\n",
       "    }\n",
       "\n",
       "    .dataframe thead th {\n",
       "        text-align: right;\n",
       "    }\n",
       "</style>\n",
       "<table border=\"1\" class=\"dataframe\">\n",
       "  <thead>\n",
       "    <tr style=\"text-align: right;\">\n",
       "      <th></th>\n",
       "      <th></th>\n",
       "      <th>04시-05시 하차인원</th>\n",
       "      <th>05시-06시 하차인원</th>\n",
       "      <th>06시-07시 하차인원</th>\n",
       "      <th>07시-08시 하차인원</th>\n",
       "      <th>08시-09시 하차인원</th>\n",
       "      <th>09시-10시 하차인원</th>\n",
       "      <th>10시-11시 하차인원</th>\n",
       "      <th>11시-12시 하차인원</th>\n",
       "      <th>12시-13시 하차인원</th>\n",
       "      <th>13시-14시 하차인원</th>\n",
       "      <th>...</th>\n",
       "      <th>17시-18시 하차인원</th>\n",
       "      <th>18시-19시 하차인원</th>\n",
       "      <th>19시-20시 하차인원</th>\n",
       "      <th>20시-21시 하차인원</th>\n",
       "      <th>21시-22시 하차인원</th>\n",
       "      <th>22시-23시 하차인원</th>\n",
       "      <th>23시-24시 하차인원</th>\n",
       "      <th>00시-01시 하차인원</th>\n",
       "      <th>1시 이후 하차</th>\n",
       "      <th>총 하차인원</th>\n",
       "    </tr>\n",
       "    <tr>\n",
       "      <th>호선명</th>\n",
       "      <th>지하철역</th>\n",
       "      <th></th>\n",
       "      <th></th>\n",
       "      <th></th>\n",
       "      <th></th>\n",
       "      <th></th>\n",
       "      <th></th>\n",
       "      <th></th>\n",
       "      <th></th>\n",
       "      <th></th>\n",
       "      <th></th>\n",
       "      <th></th>\n",
       "      <th></th>\n",
       "      <th></th>\n",
       "      <th></th>\n",
       "      <th></th>\n",
       "      <th></th>\n",
       "      <th></th>\n",
       "      <th></th>\n",
       "      <th></th>\n",
       "      <th></th>\n",
       "      <th></th>\n",
       "    </tr>\n",
       "  </thead>\n",
       "  <tbody>\n",
       "    <tr>\n",
       "      <th rowspan=\"5\" valign=\"top\">1호선</th>\n",
       "      <th>가능</th>\n",
       "      <td>6.050000</td>\n",
       "      <td>1626.133333</td>\n",
       "      <td>4374.083333</td>\n",
       "      <td>5366.183333</td>\n",
       "      <td>16129.050000</td>\n",
       "      <td>8418.733333</td>\n",
       "      <td>6858.433333</td>\n",
       "      <td>6510.516667</td>\n",
       "      <td>7152.233333</td>\n",
       "      <td>8397.616667</td>\n",
       "      <td>...</td>\n",
       "      <td>14506.450000</td>\n",
       "      <td>19975.616667</td>\n",
       "      <td>19968.933333</td>\n",
       "      <td>13216.083333</td>\n",
       "      <td>9974.333333</td>\n",
       "      <td>9940.933333</td>\n",
       "      <td>6906.650000</td>\n",
       "      <td>1916.666667</td>\n",
       "      <td>1.650000</td>\n",
       "      <td>190483.066667</td>\n",
       "    </tr>\n",
       "    <tr>\n",
       "      <th>가산디지털단지</th>\n",
       "      <td>6.133333</td>\n",
       "      <td>1980.583333</td>\n",
       "      <td>10941.750000</td>\n",
       "      <td>46802.533333</td>\n",
       "      <td>153276.750000</td>\n",
       "      <td>72598.500000</td>\n",
       "      <td>21970.766667</td>\n",
       "      <td>16996.766667</td>\n",
       "      <td>16409.233333</td>\n",
       "      <td>17653.733333</td>\n",
       "      <td>...</td>\n",
       "      <td>23332.466667</td>\n",
       "      <td>27912.033333</td>\n",
       "      <td>22441.483333</td>\n",
       "      <td>13175.716667</td>\n",
       "      <td>13044.050000</td>\n",
       "      <td>11600.800000</td>\n",
       "      <td>6686.566667</td>\n",
       "      <td>1090.016667</td>\n",
       "      <td>2.033333</td>\n",
       "      <td>530362.966667</td>\n",
       "    </tr>\n",
       "    <tr>\n",
       "      <th>간석</th>\n",
       "      <td>10.866667</td>\n",
       "      <td>1158.600000</td>\n",
       "      <td>2589.983333</td>\n",
       "      <td>4138.650000</td>\n",
       "      <td>8974.150000</td>\n",
       "      <td>5961.950000</td>\n",
       "      <td>5196.216667</td>\n",
       "      <td>5690.166667</td>\n",
       "      <td>6616.683333</td>\n",
       "      <td>7212.183333</td>\n",
       "      <td>...</td>\n",
       "      <td>14301.233333</td>\n",
       "      <td>19304.766667</td>\n",
       "      <td>19758.183333</td>\n",
       "      <td>12610.466667</td>\n",
       "      <td>10974.983333</td>\n",
       "      <td>10211.350000</td>\n",
       "      <td>7005.550000</td>\n",
       "      <td>2437.116667</td>\n",
       "      <td>2.066667</td>\n",
       "      <td>171472.816667</td>\n",
       "    </tr>\n",
       "    <tr>\n",
       "      <th>개봉</th>\n",
       "      <td>8.633333</td>\n",
       "      <td>5494.800000</td>\n",
       "      <td>11855.966667</td>\n",
       "      <td>16530.883333</td>\n",
       "      <td>26158.450000</td>\n",
       "      <td>20669.783333</td>\n",
       "      <td>17667.533333</td>\n",
       "      <td>20241.466667</td>\n",
       "      <td>24447.716667</td>\n",
       "      <td>24229.850000</td>\n",
       "      <td>...</td>\n",
       "      <td>59967.050000</td>\n",
       "      <td>89897.233333</td>\n",
       "      <td>78656.183333</td>\n",
       "      <td>48984.700000</td>\n",
       "      <td>44434.883333</td>\n",
       "      <td>39313.183333</td>\n",
       "      <td>24220.900000</td>\n",
       "      <td>3167.933333</td>\n",
       "      <td>2.283333</td>\n",
       "      <td>662729.900000</td>\n",
       "    </tr>\n",
       "    <tr>\n",
       "      <th>관악</th>\n",
       "      <td>1.800000</td>\n",
       "      <td>1931.716667</td>\n",
       "      <td>4626.450000</td>\n",
       "      <td>6062.566667</td>\n",
       "      <td>10607.266667</td>\n",
       "      <td>11114.666667</td>\n",
       "      <td>10735.233333</td>\n",
       "      <td>8128.400000</td>\n",
       "      <td>8069.283333</td>\n",
       "      <td>7915.516667</td>\n",
       "      <td>...</td>\n",
       "      <td>15376.666667</td>\n",
       "      <td>27496.433333</td>\n",
       "      <td>24178.633333</td>\n",
       "      <td>14773.550000</td>\n",
       "      <td>14446.850000</td>\n",
       "      <td>12601.583333</td>\n",
       "      <td>8734.116667</td>\n",
       "      <td>980.500000</td>\n",
       "      <td>0.266667</td>\n",
       "      <td>217357.950000</td>\n",
       "    </tr>\n",
       "  </tbody>\n",
       "</table>\n",
       "<p>5 rows × 23 columns</p>\n",
       "</div>"
      ],
      "text/plain": [
       "             04시-05시 하차인원  05시-06시 하차인원  06시-07시 하차인원  07시-08시 하차인원  \\\n",
       "호선명 지하철역                                                              \n",
       "1호선 가능           6.050000   1626.133333   4374.083333   5366.183333   \n",
       "    가산디지털단지      6.133333   1980.583333  10941.750000  46802.533333   \n",
       "    간석          10.866667   1158.600000   2589.983333   4138.650000   \n",
       "    개봉           8.633333   5494.800000  11855.966667  16530.883333   \n",
       "    관악           1.800000   1931.716667   4626.450000   6062.566667   \n",
       "\n",
       "              08시-09시 하차인원  09시-10시 하차인원  10시-11시 하차인원  11시-12시 하차인원  \\\n",
       "호선명 지하철역                                                               \n",
       "1호선 가능        16129.050000   8418.733333   6858.433333   6510.516667   \n",
       "    가산디지털단지  153276.750000  72598.500000  21970.766667  16996.766667   \n",
       "    간석         8974.150000   5961.950000   5196.216667   5690.166667   \n",
       "    개봉        26158.450000  20669.783333  17667.533333  20241.466667   \n",
       "    관악        10607.266667  11114.666667  10735.233333   8128.400000   \n",
       "\n",
       "             12시-13시 하차인원  13시-14시 하차인원  ...  17시-18시 하차인원  18시-19시 하차인원  \\\n",
       "호선명 지하철역                                 ...                               \n",
       "1호선 가능        7152.233333   8397.616667  ...  14506.450000  19975.616667   \n",
       "    가산디지털단지  16409.233333  17653.733333  ...  23332.466667  27912.033333   \n",
       "    간석        6616.683333   7212.183333  ...  14301.233333  19304.766667   \n",
       "    개봉       24447.716667  24229.850000  ...  59967.050000  89897.233333   \n",
       "    관악        8069.283333   7915.516667  ...  15376.666667  27496.433333   \n",
       "\n",
       "             19시-20시 하차인원  20시-21시 하차인원  21시-22시 하차인원  22시-23시 하차인원  \\\n",
       "호선명 지하철역                                                              \n",
       "1호선 가능       19968.933333  13216.083333   9974.333333   9940.933333   \n",
       "    가산디지털단지  22441.483333  13175.716667  13044.050000  11600.800000   \n",
       "    간석       19758.183333  12610.466667  10974.983333  10211.350000   \n",
       "    개봉       78656.183333  48984.700000  44434.883333  39313.183333   \n",
       "    관악       24178.633333  14773.550000  14446.850000  12601.583333   \n",
       "\n",
       "             23시-24시 하차인원  00시-01시 하차인원  1시 이후 하차         총 하차인원  \n",
       "호선명 지하철역                                                          \n",
       "1호선 가능        6906.650000   1916.666667  1.650000  190483.066667  \n",
       "    가산디지털단지   6686.566667   1090.016667  2.033333  530362.966667  \n",
       "    간석        7005.550000   2437.116667  2.066667  171472.816667  \n",
       "    개봉       24220.900000   3167.933333  2.283333  662729.900000  \n",
       "    관악        8734.116667    980.500000  0.266667  217357.950000  \n",
       "\n",
       "[5 rows x 23 columns]"
      ]
     },
     "execution_count": 91,
     "metadata": {},
     "output_type": "execute_result"
    }
   ],
   "source": [
    "# df에 하루 총 하차인원 column추가\n",
    "df_off['총 하차인원'] = df_off.sum(axis=1)\n",
    "df_off.head()"
   ]
  },
  {
   "cell_type": "code",
   "execution_count": 93,
   "id": "f90e23bc",
   "metadata": {},
   "outputs": [],
   "source": [
    "# 하루 총 이용객이 300보다 작은 일자의 데이터 삭제\n",
    "df_off.drop(df_off[df_off['총 하차인원']<=300].index, axis=0, inplace=True)"
   ]
  },
  {
   "cell_type": "code",
   "execution_count": 95,
   "id": "2f2235f3",
   "metadata": {},
   "outputs": [
    {
     "name": "stdout",
     "output_type": "stream",
     "text": [
      "1호선\n",
      "            총 하차인원\n",
      "지하철역              \n",
      "영등포   1.370517e+06\n",
      "수원    1.290490e+06\n",
      "용산    1.119825e+06\n",
      "부평    1.097105e+06\n",
      "부천    1.095438e+06\n",
      "-------------------------------------\n",
      "2호선\n",
      "                총 하차인원\n",
      "지하철역                  \n",
      "강남        2.692097e+06\n",
      "잠실(송파구청)  2.202087e+06\n",
      "홍대입구      2.140521e+06\n",
      "신림        1.881374e+06\n",
      "구로디지털단지   1.729752e+06\n",
      "-------------------------------------\n",
      "3호선\n",
      "                    총 하차인원\n",
      "지하철역                      \n",
      "고속터미널         1.507880e+06\n",
      "양재(서초구청)      1.177906e+06\n",
      "연신내           1.094582e+06\n",
      "압구정           9.954333e+05\n",
      "남부터미널(예술의전당)  9.516261e+05\n",
      "-------------------------------------\n",
      "4호선\n",
      "                총 하차인원\n",
      "지하철역                  \n",
      "혜화        1.118091e+06\n",
      "수유(강북구청)  1.067236e+06\n",
      "명동        9.638384e+05\n",
      "충무로       8.491708e+05\n",
      "창동        8.475764e+05\n",
      "-------------------------------------\n",
      "5호선\n",
      "                    총 하차인원\n",
      "지하철역                      \n",
      "광화문(세종문화회관)  981213.916667\n",
      "까치산          803599.716667\n",
      "화곡           765358.466667\n",
      "오목교(목동운동장앞)  720031.550000\n",
      "여의도          712766.416667\n",
      "-------------------------------------\n",
      "6호선\n",
      "                 총 하차인원\n",
      "지하철역                   \n",
      "응암        495697.683333\n",
      "공덕        491587.416667\n",
      "이태원       465971.450000\n",
      "망원        433069.166667\n",
      "디지털미디어시티  411386.666667\n",
      "-------------------------------------\n",
      "7호선\n",
      "               총 하차인원\n",
      "지하철역                 \n",
      "가산디지털단지  1.128070e+06\n",
      "광명사거리    7.035282e+05\n",
      "철산       6.682432e+05\n",
      "학동       6.530607e+05\n",
      "노원       6.230122e+05\n",
      "-------------------------------------\n",
      "8호선\n",
      "                 총 하차인원\n",
      "지하철역                   \n",
      "천호(풍납토성)  564318.283333\n",
      "문정        506960.833333\n",
      "장지        483635.516667\n",
      "잠실(송파구청)  476729.716667\n",
      "암사        462381.016667\n",
      "-------------------------------------\n",
      "9호선\n",
      "              총 하차인원\n",
      "지하철역                \n",
      "신논현    878906.300000\n",
      "노량진    805593.466667\n",
      "여의도    573378.416667\n",
      "가양     559108.616667\n",
      "고속터미널  554165.050000\n",
      "-------------------------------------\n"
     ]
    }
   ],
   "source": [
    "# 그래프를 그리기 위한 변수 생성\n",
    "x1, x2, x3 = [], [], []\n",
    "\n",
    "# 각 호선별 총 하차인원 top5 출력\n",
    "for i in range(1, 10):\n",
    "    df_off_i = df_off.xs(f'{i}호선',level='호선명').sort_values('총 하차인원', ascending=False).head(5)\n",
    "    \n",
    "    print(f'{i}호선')\n",
    "    print(df_off_i[['총 하차인원']])\n",
    "    print('-------------------------------------')\n",
    "    \n",
    "    # 그래프 값 저장\n",
    "    x1.append(f'{i}호선')\n",
    "    x2.append(df_off_i.index[0])\n",
    "    x3.append(df_off_i['총 하차인원'][0])\n",
    "    \n",
    "    # 각 호선별 하차인원이 가장 많은 역저장\n",
    "    globals()[\"df_off_{}\".format(i)] = df_off.xs(f'{i}호선',level='호선명').sort_values('총 하차인원', ascending=False).head(1)"
   ]
  },
  {
   "cell_type": "code",
   "execution_count": 96,
   "id": "e542c3df",
   "metadata": {},
   "outputs": [],
   "source": [
    "# 호선별 가장 많이 하차하는 역을 데이터 프레임으로 저장\n",
    "df_off_max = pd.DataFrame({'호선명' : x1, '지하철역' : x2, '총 하차인원' : x3})"
   ]
  },
  {
   "cell_type": "code",
   "execution_count": 97,
   "id": "0af1d9a8",
   "metadata": {},
   "outputs": [
    {
     "data": {
      "text/html": [
       "<div>\n",
       "<style scoped>\n",
       "    .dataframe tbody tr th:only-of-type {\n",
       "        vertical-align: middle;\n",
       "    }\n",
       "\n",
       "    .dataframe tbody tr th {\n",
       "        vertical-align: top;\n",
       "    }\n",
       "\n",
       "    .dataframe thead th {\n",
       "        text-align: right;\n",
       "    }\n",
       "</style>\n",
       "<table border=\"1\" class=\"dataframe\">\n",
       "  <thead>\n",
       "    <tr style=\"text-align: right;\">\n",
       "      <th></th>\n",
       "      <th>호선명</th>\n",
       "      <th>지하철역</th>\n",
       "      <th>총 하차인원</th>\n",
       "    </tr>\n",
       "  </thead>\n",
       "  <tbody>\n",
       "    <tr>\n",
       "      <th>0</th>\n",
       "      <td>1호선</td>\n",
       "      <td>영등포</td>\n",
       "      <td>1.370517e+06</td>\n",
       "    </tr>\n",
       "    <tr>\n",
       "      <th>1</th>\n",
       "      <td>2호선</td>\n",
       "      <td>강남</td>\n",
       "      <td>2.692097e+06</td>\n",
       "    </tr>\n",
       "    <tr>\n",
       "      <th>2</th>\n",
       "      <td>3호선</td>\n",
       "      <td>고속터미널</td>\n",
       "      <td>1.507880e+06</td>\n",
       "    </tr>\n",
       "    <tr>\n",
       "      <th>3</th>\n",
       "      <td>4호선</td>\n",
       "      <td>혜화</td>\n",
       "      <td>1.118091e+06</td>\n",
       "    </tr>\n",
       "    <tr>\n",
       "      <th>4</th>\n",
       "      <td>5호선</td>\n",
       "      <td>광화문(세종문화회관)</td>\n",
       "      <td>9.812139e+05</td>\n",
       "    </tr>\n",
       "    <tr>\n",
       "      <th>5</th>\n",
       "      <td>6호선</td>\n",
       "      <td>응암</td>\n",
       "      <td>4.956977e+05</td>\n",
       "    </tr>\n",
       "    <tr>\n",
       "      <th>6</th>\n",
       "      <td>7호선</td>\n",
       "      <td>가산디지털단지</td>\n",
       "      <td>1.128070e+06</td>\n",
       "    </tr>\n",
       "    <tr>\n",
       "      <th>7</th>\n",
       "      <td>8호선</td>\n",
       "      <td>천호(풍납토성)</td>\n",
       "      <td>5.643183e+05</td>\n",
       "    </tr>\n",
       "    <tr>\n",
       "      <th>8</th>\n",
       "      <td>9호선</td>\n",
       "      <td>신논현</td>\n",
       "      <td>8.789063e+05</td>\n",
       "    </tr>\n",
       "  </tbody>\n",
       "</table>\n",
       "</div>"
      ],
      "text/plain": [
       "   호선명         지하철역        총 하차인원\n",
       "0  1호선          영등포  1.370517e+06\n",
       "1  2호선           강남  2.692097e+06\n",
       "2  3호선        고속터미널  1.507880e+06\n",
       "3  4호선           혜화  1.118091e+06\n",
       "4  5호선  광화문(세종문화회관)  9.812139e+05\n",
       "5  6호선           응암  4.956977e+05\n",
       "6  7호선      가산디지털단지  1.128070e+06\n",
       "7  8호선     천호(풍납토성)  5.643183e+05\n",
       "8  9호선          신논현  8.789063e+05"
      ]
     },
     "execution_count": 97,
     "metadata": {},
     "output_type": "execute_result"
    }
   ],
   "source": [
    "df_off_max"
   ]
  },
  {
   "cell_type": "code",
   "execution_count": 99,
   "id": "812dcd06",
   "metadata": {},
   "outputs": [
    {
     "data": {
      "image/png": "[encoded data removed]",
      "text/plain": [
       "<Figure size 640x480 with 1 Axes>"
      ]
     },
     "metadata": {},
     "output_type": "display_data"
    }
   ],
   "source": [
    "# 그래프\n",
    "plt.bar(df_off_max['호선명'],df_off_max['총 하차인원'], color='pink')\n",
    "for i in range(0,9):\n",
    "    plt.text(i,df_off_max.iloc[i]['총 하차인원']+80000,df_off_max.iloc[i]['지하철역'], va='center', ha='center', size=8)"
   ]
  },
  {
   "cell_type": "markdown",
   "id": "8a6e23f4",
   "metadata": {},
   "source": [
    "- 이 역의 가장 혼잡한 시간대는?"
   ]
  },
  {
   "cell_type": "code",
   "execution_count": null,
   "id": "e76e6f05",
   "metadata": {},
   "outputs": [],
   "source": []
  },
  {
   "cell_type": "markdown",
   "id": "4f1a636c",
   "metadata": {},
   "source": [
    "### 3. 혼잡도 계산"
   ]
  },
  {
   "cell_type": "code",
   "execution_count": null,
   "id": "0e980bb7",
   "metadata": {},
   "outputs": [],
   "source": []
  },
  {
   "cell_type": "markdown",
   "id": "e26a4427",
   "metadata": {},
   "source": [
    "### 4. 시각화"
   ]
  },
  {
   "cell_type": "code",
   "execution_count": null,
   "id": "c8e431d7",
   "metadata": {},
   "outputs": [],
   "source": []
  },
  {
   "cell_type": "markdown",
   "id": "8c3da249",
   "metadata": {},
   "source": [
    "## 3. 혼잡도와 배차시간 사이의 관계"
   ]
  },
  {
   "cell_type": "code",
   "execution_count": 58,
   "id": "612e6594",
   "metadata": {},
   "outputs": [],
   "source": [
    "# 데이터 로드\n"
   ]
  },
  {
   "cell_type": "markdown",
   "id": "3c4fe723",
   "metadata": {},
   "source": [
    "### 1. 혼잡도가 높은 역에 대한 혼잡한 시간대의 배차간격은?"
   ]
  },
  {
   "cell_type": "code",
   "execution_count": null,
   "id": "a7560774",
   "metadata": {},
   "outputs": [],
   "source": []
  },
  {
   "cell_type": "markdown",
   "id": "d503c731",
   "metadata": {},
   "source": [
    "### 2. 시각화 - 혼잡도(선그래프)와 배차간격(막대그래프) 결합"
   ]
  },
  {
   "cell_type": "code",
   "execution_count": null,
   "id": "11517337",
   "metadata": {},
   "outputs": [],
   "source": []
  }
 ],
 "metadata": {
  "kernelspec": {
   "display_name": "Python 3 (ipykernel)",
   "language": "python",
   "name": "python3"
  },
  "language_info": {
   "codemirror_mode": {
    "name": "ipython",
    "version": 3
   },
   "file_extension": ".py",
   "mimetype": "text/x-python",
   "name": "python",
   "nbconvert_exporter": "python",
   "pygments_lexer": "ipython3",
   "version": "3.9.13"
  }
 },
 "nbformat": 4,
 "nbformat_minor": 5
}
